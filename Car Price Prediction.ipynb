{
 "cells": [
  {
   "cell_type": "code",
   "execution_count": 1,
   "id": "4d91f7f5",
   "metadata": {},
   "outputs": [],
   "source": [
    "# import libraries\n",
    "import numpy as np\n",
    "import pandas as pd\n",
    "import matplotlib.pyplot as plt\n",
    "import seaborn as sns"
   ]
  },
  {
   "cell_type": "code",
   "execution_count": 2,
   "id": "c314bbb7",
   "metadata": {},
   "outputs": [],
   "source": [
    "df = pd.read_csv('vehicles.csv')"
   ]
  },
  {
   "cell_type": "code",
   "execution_count": 3,
   "id": "0961501b",
   "metadata": {},
   "outputs": [
    {
     "data": {
      "text/html": [
       "<div>\n",
       "<style scoped>\n",
       "    .dataframe tbody tr th:only-of-type {\n",
       "        vertical-align: middle;\n",
       "    }\n",
       "\n",
       "    .dataframe tbody tr th {\n",
       "        vertical-align: top;\n",
       "    }\n",
       "\n",
       "    .dataframe thead th {\n",
       "        text-align: right;\n",
       "    }\n",
       "</style>\n",
       "<table border=\"1\" class=\"dataframe\">\n",
       "  <thead>\n",
       "    <tr style=\"text-align: right;\">\n",
       "      <th></th>\n",
       "      <th>id</th>\n",
       "      <th>url</th>\n",
       "      <th>region</th>\n",
       "      <th>region_url</th>\n",
       "      <th>price</th>\n",
       "      <th>year</th>\n",
       "      <th>manufacturer</th>\n",
       "      <th>model</th>\n",
       "      <th>condition</th>\n",
       "      <th>cylinders</th>\n",
       "      <th>...</th>\n",
       "      <th>size</th>\n",
       "      <th>type</th>\n",
       "      <th>paint_color</th>\n",
       "      <th>image_url</th>\n",
       "      <th>description</th>\n",
       "      <th>county</th>\n",
       "      <th>state</th>\n",
       "      <th>lat</th>\n",
       "      <th>long</th>\n",
       "      <th>posting_date</th>\n",
       "    </tr>\n",
       "  </thead>\n",
       "  <tbody>\n",
       "    <tr>\n",
       "      <th>0</th>\n",
       "      <td>7222695916</td>\n",
       "      <td>https://prescott.craigslist.org/cto/d/prescott...</td>\n",
       "      <td>prescott</td>\n",
       "      <td>https://prescott.craigslist.org</td>\n",
       "      <td>6000</td>\n",
       "      <td>NaN</td>\n",
       "      <td>NaN</td>\n",
       "      <td>NaN</td>\n",
       "      <td>NaN</td>\n",
       "      <td>NaN</td>\n",
       "      <td>...</td>\n",
       "      <td>NaN</td>\n",
       "      <td>NaN</td>\n",
       "      <td>NaN</td>\n",
       "      <td>NaN</td>\n",
       "      <td>NaN</td>\n",
       "      <td>NaN</td>\n",
       "      <td>az</td>\n",
       "      <td>NaN</td>\n",
       "      <td>NaN</td>\n",
       "      <td>NaN</td>\n",
       "    </tr>\n",
       "    <tr>\n",
       "      <th>1</th>\n",
       "      <td>7218891961</td>\n",
       "      <td>https://fayar.craigslist.org/ctd/d/bentonville...</td>\n",
       "      <td>fayetteville</td>\n",
       "      <td>https://fayar.craigslist.org</td>\n",
       "      <td>11900</td>\n",
       "      <td>NaN</td>\n",
       "      <td>NaN</td>\n",
       "      <td>NaN</td>\n",
       "      <td>NaN</td>\n",
       "      <td>NaN</td>\n",
       "      <td>...</td>\n",
       "      <td>NaN</td>\n",
       "      <td>NaN</td>\n",
       "      <td>NaN</td>\n",
       "      <td>NaN</td>\n",
       "      <td>NaN</td>\n",
       "      <td>NaN</td>\n",
       "      <td>ar</td>\n",
       "      <td>NaN</td>\n",
       "      <td>NaN</td>\n",
       "      <td>NaN</td>\n",
       "    </tr>\n",
       "    <tr>\n",
       "      <th>2</th>\n",
       "      <td>7221797935</td>\n",
       "      <td>https://keys.craigslist.org/cto/d/summerland-k...</td>\n",
       "      <td>florida keys</td>\n",
       "      <td>https://keys.craigslist.org</td>\n",
       "      <td>21000</td>\n",
       "      <td>NaN</td>\n",
       "      <td>NaN</td>\n",
       "      <td>NaN</td>\n",
       "      <td>NaN</td>\n",
       "      <td>NaN</td>\n",
       "      <td>...</td>\n",
       "      <td>NaN</td>\n",
       "      <td>NaN</td>\n",
       "      <td>NaN</td>\n",
       "      <td>NaN</td>\n",
       "      <td>NaN</td>\n",
       "      <td>NaN</td>\n",
       "      <td>fl</td>\n",
       "      <td>NaN</td>\n",
       "      <td>NaN</td>\n",
       "      <td>NaN</td>\n",
       "    </tr>\n",
       "    <tr>\n",
       "      <th>3</th>\n",
       "      <td>7222270760</td>\n",
       "      <td>https://worcester.craigslist.org/cto/d/west-br...</td>\n",
       "      <td>worcester / central MA</td>\n",
       "      <td>https://worcester.craigslist.org</td>\n",
       "      <td>1500</td>\n",
       "      <td>NaN</td>\n",
       "      <td>NaN</td>\n",
       "      <td>NaN</td>\n",
       "      <td>NaN</td>\n",
       "      <td>NaN</td>\n",
       "      <td>...</td>\n",
       "      <td>NaN</td>\n",
       "      <td>NaN</td>\n",
       "      <td>NaN</td>\n",
       "      <td>NaN</td>\n",
       "      <td>NaN</td>\n",
       "      <td>NaN</td>\n",
       "      <td>ma</td>\n",
       "      <td>NaN</td>\n",
       "      <td>NaN</td>\n",
       "      <td>NaN</td>\n",
       "    </tr>\n",
       "    <tr>\n",
       "      <th>4</th>\n",
       "      <td>7210384030</td>\n",
       "      <td>https://greensboro.craigslist.org/cto/d/trinit...</td>\n",
       "      <td>greensboro</td>\n",
       "      <td>https://greensboro.craigslist.org</td>\n",
       "      <td>4900</td>\n",
       "      <td>NaN</td>\n",
       "      <td>NaN</td>\n",
       "      <td>NaN</td>\n",
       "      <td>NaN</td>\n",
       "      <td>NaN</td>\n",
       "      <td>...</td>\n",
       "      <td>NaN</td>\n",
       "      <td>NaN</td>\n",
       "      <td>NaN</td>\n",
       "      <td>NaN</td>\n",
       "      <td>NaN</td>\n",
       "      <td>NaN</td>\n",
       "      <td>nc</td>\n",
       "      <td>NaN</td>\n",
       "      <td>NaN</td>\n",
       "      <td>NaN</td>\n",
       "    </tr>\n",
       "  </tbody>\n",
       "</table>\n",
       "<p>5 rows × 26 columns</p>\n",
       "</div>"
      ],
      "text/plain": [
       "           id                                                url  \\\n",
       "0  7222695916  https://prescott.craigslist.org/cto/d/prescott...   \n",
       "1  7218891961  https://fayar.craigslist.org/ctd/d/bentonville...   \n",
       "2  7221797935  https://keys.craigslist.org/cto/d/summerland-k...   \n",
       "3  7222270760  https://worcester.craigslist.org/cto/d/west-br...   \n",
       "4  7210384030  https://greensboro.craigslist.org/cto/d/trinit...   \n",
       "\n",
       "                   region                         region_url  price  year  \\\n",
       "0                prescott    https://prescott.craigslist.org   6000   NaN   \n",
       "1            fayetteville       https://fayar.craigslist.org  11900   NaN   \n",
       "2            florida keys        https://keys.craigslist.org  21000   NaN   \n",
       "3  worcester / central MA   https://worcester.craigslist.org   1500   NaN   \n",
       "4              greensboro  https://greensboro.craigslist.org   4900   NaN   \n",
       "\n",
       "  manufacturer model condition cylinders  ... size  type paint_color  \\\n",
       "0          NaN   NaN       NaN       NaN  ...  NaN   NaN         NaN   \n",
       "1          NaN   NaN       NaN       NaN  ...  NaN   NaN         NaN   \n",
       "2          NaN   NaN       NaN       NaN  ...  NaN   NaN         NaN   \n",
       "3          NaN   NaN       NaN       NaN  ...  NaN   NaN         NaN   \n",
       "4          NaN   NaN       NaN       NaN  ...  NaN   NaN         NaN   \n",
       "\n",
       "  image_url description county state lat long posting_date  \n",
       "0       NaN         NaN    NaN    az NaN  NaN          NaN  \n",
       "1       NaN         NaN    NaN    ar NaN  NaN          NaN  \n",
       "2       NaN         NaN    NaN    fl NaN  NaN          NaN  \n",
       "3       NaN         NaN    NaN    ma NaN  NaN          NaN  \n",
       "4       NaN         NaN    NaN    nc NaN  NaN          NaN  \n",
       "\n",
       "[5 rows x 26 columns]"
      ]
     },
     "execution_count": 3,
     "metadata": {},
     "output_type": "execute_result"
    }
   ],
   "source": [
    "df.head()"
   ]
  },
  {
   "cell_type": "markdown",
   "id": "40e8e945",
   "metadata": {},
   "source": []
  },
  {
   "cell_type": "code",
   "execution_count": 4,
   "id": "672f7989",
   "metadata": {},
   "outputs": [
    {
     "name": "stdout",
     "output_type": "stream",
     "text": [
      "<class 'pandas.core.frame.DataFrame'>\n",
      "RangeIndex: 426880 entries, 0 to 426879\n",
      "Data columns (total 26 columns):\n",
      " #   Column        Non-Null Count   Dtype  \n",
      "---  ------        --------------   -----  \n",
      " 0   id            426880 non-null  int64  \n",
      " 1   url           426880 non-null  object \n",
      " 2   region        426880 non-null  object \n",
      " 3   region_url    426880 non-null  object \n",
      " 4   price         426880 non-null  int64  \n",
      " 5   year          425675 non-null  float64\n",
      " 6   manufacturer  409234 non-null  object \n",
      " 7   model         421603 non-null  object \n",
      " 8   condition     252776 non-null  object \n",
      " 9   cylinders     249202 non-null  object \n",
      " 10  fuel          423867 non-null  object \n",
      " 11  odometer      422480 non-null  float64\n",
      " 12  title_status  418638 non-null  object \n",
      " 13  transmission  424324 non-null  object \n",
      " 14  VIN           265838 non-null  object \n",
      " 15  drive         296313 non-null  object \n",
      " 16  size          120519 non-null  object \n",
      " 17  type          334022 non-null  object \n",
      " 18  paint_color   296677 non-null  object \n",
      " 19  image_url     426812 non-null  object \n",
      " 20  description   426810 non-null  object \n",
      " 21  county        0 non-null       float64\n",
      " 22  state         426880 non-null  object \n",
      " 23  lat           420331 non-null  float64\n",
      " 24  long          420331 non-null  float64\n",
      " 25  posting_date  426812 non-null  object \n",
      "dtypes: float64(5), int64(2), object(19)\n",
      "memory usage: 84.7+ MB\n"
     ]
    }
   ],
   "source": [
    "df.info()"
   ]
  },
  {
   "cell_type": "code",
   "execution_count": 5,
   "id": "cb185851",
   "metadata": {},
   "outputs": [],
   "source": [
    "df.drop(['id','url','region_url','image_url','county','description','year'],axis=1,inplace=True)"
   ]
  },
  {
   "cell_type": "code",
   "execution_count": 6,
   "id": "15c49b7f",
   "metadata": {},
   "outputs": [
    {
     "data": {
      "text/html": [
       "<div>\n",
       "<style scoped>\n",
       "    .dataframe tbody tr th:only-of-type {\n",
       "        vertical-align: middle;\n",
       "    }\n",
       "\n",
       "    .dataframe tbody tr th {\n",
       "        vertical-align: top;\n",
       "    }\n",
       "\n",
       "    .dataframe thead th {\n",
       "        text-align: right;\n",
       "    }\n",
       "</style>\n",
       "<table border=\"1\" class=\"dataframe\">\n",
       "  <thead>\n",
       "    <tr style=\"text-align: right;\">\n",
       "      <th></th>\n",
       "      <th>price</th>\n",
       "      <th>odometer</th>\n",
       "      <th>lat</th>\n",
       "      <th>long</th>\n",
       "    </tr>\n",
       "  </thead>\n",
       "  <tbody>\n",
       "    <tr>\n",
       "      <th>count</th>\n",
       "      <td>4.268800e+05</td>\n",
       "      <td>4.224800e+05</td>\n",
       "      <td>420331.000000</td>\n",
       "      <td>420331.000000</td>\n",
       "    </tr>\n",
       "    <tr>\n",
       "      <th>mean</th>\n",
       "      <td>7.519903e+04</td>\n",
       "      <td>9.804333e+04</td>\n",
       "      <td>38.493940</td>\n",
       "      <td>-94.748599</td>\n",
       "    </tr>\n",
       "    <tr>\n",
       "      <th>std</th>\n",
       "      <td>1.218228e+07</td>\n",
       "      <td>2.138815e+05</td>\n",
       "      <td>5.841533</td>\n",
       "      <td>18.365462</td>\n",
       "    </tr>\n",
       "    <tr>\n",
       "      <th>min</th>\n",
       "      <td>0.000000e+00</td>\n",
       "      <td>0.000000e+00</td>\n",
       "      <td>-84.122245</td>\n",
       "      <td>-159.827728</td>\n",
       "    </tr>\n",
       "    <tr>\n",
       "      <th>25%</th>\n",
       "      <td>5.900000e+03</td>\n",
       "      <td>3.770400e+04</td>\n",
       "      <td>34.601900</td>\n",
       "      <td>-111.939847</td>\n",
       "    </tr>\n",
       "    <tr>\n",
       "      <th>50%</th>\n",
       "      <td>1.395000e+04</td>\n",
       "      <td>8.554800e+04</td>\n",
       "      <td>39.150100</td>\n",
       "      <td>-88.432600</td>\n",
       "    </tr>\n",
       "    <tr>\n",
       "      <th>75%</th>\n",
       "      <td>2.648575e+04</td>\n",
       "      <td>1.335425e+05</td>\n",
       "      <td>42.398900</td>\n",
       "      <td>-80.832039</td>\n",
       "    </tr>\n",
       "    <tr>\n",
       "      <th>max</th>\n",
       "      <td>3.736929e+09</td>\n",
       "      <td>1.000000e+07</td>\n",
       "      <td>82.390818</td>\n",
       "      <td>173.885502</td>\n",
       "    </tr>\n",
       "  </tbody>\n",
       "</table>\n",
       "</div>"
      ],
      "text/plain": [
       "              price      odometer            lat           long\n",
       "count  4.268800e+05  4.224800e+05  420331.000000  420331.000000\n",
       "mean   7.519903e+04  9.804333e+04      38.493940     -94.748599\n",
       "std    1.218228e+07  2.138815e+05       5.841533      18.365462\n",
       "min    0.000000e+00  0.000000e+00     -84.122245    -159.827728\n",
       "25%    5.900000e+03  3.770400e+04      34.601900    -111.939847\n",
       "50%    1.395000e+04  8.554800e+04      39.150100     -88.432600\n",
       "75%    2.648575e+04  1.335425e+05      42.398900     -80.832039\n",
       "max    3.736929e+09  1.000000e+07      82.390818     173.885502"
      ]
     },
     "execution_count": 6,
     "metadata": {},
     "output_type": "execute_result"
    }
   ],
   "source": [
    "df.describe()"
   ]
  },
  {
   "cell_type": "code",
   "execution_count": 7,
   "id": "2a916140",
   "metadata": {},
   "outputs": [],
   "source": [
    "df.dropna(inplace=True)"
   ]
  },
  {
   "cell_type": "code",
   "execution_count": 8,
   "id": "2a959d47",
   "metadata": {},
   "outputs": [
    {
     "data": {
      "text/plain": [
       "region          0\n",
       "price           0\n",
       "manufacturer    0\n",
       "model           0\n",
       "condition       0\n",
       "cylinders       0\n",
       "fuel            0\n",
       "odometer        0\n",
       "title_status    0\n",
       "transmission    0\n",
       "VIN             0\n",
       "drive           0\n",
       "size            0\n",
       "type            0\n",
       "paint_color     0\n",
       "state           0\n",
       "lat             0\n",
       "long            0\n",
       "posting_date    0\n",
       "dtype: int64"
      ]
     },
     "execution_count": 8,
     "metadata": {},
     "output_type": "execute_result"
    }
   ],
   "source": [
    "df.isnull().sum()"
   ]
  },
  {
   "cell_type": "code",
   "execution_count": 9,
   "id": "105a6df9",
   "metadata": {},
   "outputs": [
    {
     "name": "stdout",
     "output_type": "stream",
     "text": [
      "<class 'pandas.core.frame.DataFrame'>\n",
      "Index: 34785 entries, 126 to 426836\n",
      "Data columns (total 19 columns):\n",
      " #   Column        Non-Null Count  Dtype  \n",
      "---  ------        --------------  -----  \n",
      " 0   region        34785 non-null  object \n",
      " 1   price         34785 non-null  int64  \n",
      " 2   manufacturer  34785 non-null  object \n",
      " 3   model         34785 non-null  object \n",
      " 4   condition     34785 non-null  object \n",
      " 5   cylinders     34785 non-null  object \n",
      " 6   fuel          34785 non-null  object \n",
      " 7   odometer      34785 non-null  float64\n",
      " 8   title_status  34785 non-null  object \n",
      " 9   transmission  34785 non-null  object \n",
      " 10  VIN           34785 non-null  object \n",
      " 11  drive         34785 non-null  object \n",
      " 12  size          34785 non-null  object \n",
      " 13  type          34785 non-null  object \n",
      " 14  paint_color   34785 non-null  object \n",
      " 15  state         34785 non-null  object \n",
      " 16  lat           34785 non-null  float64\n",
      " 17  long          34785 non-null  float64\n",
      " 18  posting_date  34785 non-null  object \n",
      "dtypes: float64(3), int64(1), object(15)\n",
      "memory usage: 5.3+ MB\n"
     ]
    }
   ],
   "source": [
    "df.info()"
   ]
  },
  {
   "cell_type": "code",
   "execution_count": 10,
   "id": "e148d8f5",
   "metadata": {},
   "outputs": [
    {
     "data": {
      "text/plain": [
       "Index(['region', 'price', 'manufacturer', 'model', 'condition', 'cylinders',\n",
       "       'fuel', 'odometer', 'title_status', 'transmission', 'VIN', 'drive',\n",
       "       'size', 'type', 'paint_color', 'state', 'lat', 'long', 'posting_date'],\n",
       "      dtype='object')"
      ]
     },
     "execution_count": 10,
     "metadata": {},
     "output_type": "execute_result"
    }
   ],
   "source": [
    "df.columns"
   ]
  },
  {
   "cell_type": "code",
   "execution_count": 11,
   "id": "2b9100a1",
   "metadata": {},
   "outputs": [
    {
     "data": {
      "text/plain": [
       "array(['auburn', 'birmingham', 'dothan', 'florence / muscle shoals',\n",
       "       'gadsden-anniston', 'huntsville / decatur', 'mobile', 'montgomery',\n",
       "       'tuscaloosa', 'anchorage / mat-su', 'kenai peninsula',\n",
       "       'southeast alaska', 'flagstaff / sedona', 'mohave county',\n",
       "       'phoenix', 'prescott', 'show low', 'tucson', 'yuma',\n",
       "       'fayetteville', 'fort smith', 'jonesboro', 'little rock',\n",
       "       'texarkana', 'bakersfield', 'chico', 'fresno / madera',\n",
       "       'gold country', 'humboldt county', 'imperial county',\n",
       "       'inland empire', 'los angeles', 'mendocino county', 'merced',\n",
       "       'modesto', 'monterey bay', 'orange county', 'palm springs',\n",
       "       'redding', 'reno / tahoe', 'sacramento', 'san diego',\n",
       "       'san luis obispo', 'santa barbara', 'santa maria', 'SF bay area',\n",
       "       'siskiyou county', 'stockton', 'susanville', 'ventura county',\n",
       "       'visalia-tulare', 'yuba-sutter', 'boulder', 'colorado springs',\n",
       "       'denver', 'eastern CO', 'fort collins / north CO', 'high rockies',\n",
       "       'pueblo', 'western slope', 'eastern CT', 'hartford', 'new haven',\n",
       "       'northwest CT', 'washington, DC', 'delaware', 'daytona beach',\n",
       "       'florida keys', 'ft myers / SW florida', 'gainesville',\n",
       "       'heartland florida', 'jacksonville', 'lakeland',\n",
       "       'north central FL', 'ocala', 'okaloosa / walton', 'orlando',\n",
       "       'panama city', 'pensacola', 'sarasota-bradenton', 'south florida',\n",
       "       'space coast', 'st augustine', 'tallahassee', 'tampa bay area',\n",
       "       'treasure coast', 'albany', 'athens', 'atlanta', 'augusta',\n",
       "       'brunswick', 'columbus', 'macon / warner robins', 'northwest GA',\n",
       "       'savannah / hinesville', 'statesboro', 'valdosta', 'hawaii',\n",
       "       'boise', 'east idaho', 'lewiston / clarkston', 'pullman / moscow',\n",
       "       \"spokane / coeur d'alene\", 'twin falls', 'bloomington-normal',\n",
       "       'champaign urbana', 'chicago', 'la salle co', 'mattoon-charleston',\n",
       "       'peoria', 'quad cities, IA/IL', 'rockford', 'southern illinois',\n",
       "       'springfield', 'st louis, MO', 'bloomington', 'evansville',\n",
       "       'fort wayne', 'indianapolis', 'kokomo',\n",
       "       'lafayette / west lafayette', 'muncie / anderson',\n",
       "       'south bend / michiana', 'terre haute', 'ames', 'cedar rapids',\n",
       "       'des moines', 'dubuque', 'fort dodge', 'iowa city', 'mason city',\n",
       "       'omaha / council bluffs', 'sioux city', 'southeast IA',\n",
       "       'waterloo / cedar falls', 'kansas city, MO', 'lawrence',\n",
       "       'manhattan', 'northwest KS', 'salina', 'southeast KS',\n",
       "       'southwest KS', 'topeka', 'wichita', 'bowling green',\n",
       "       'eastern kentucky', 'huntington-ashland', 'lexington',\n",
       "       'louisville', 'owensboro', 'western KY', 'baton rouge',\n",
       "       'central louisiana', 'houma', 'lafayette', 'lake charles',\n",
       "       'monroe', 'new orleans', 'shreveport', 'maine', 'annapolis',\n",
       "       'baltimore', 'cumberland valley', 'eastern shore', 'frederick',\n",
       "       'southern maryland', 'western maryland', 'boston',\n",
       "       'cape cod / islands', 'south coast', 'western massachusetts',\n",
       "       'worcester / central MA', 'ann arbor', 'battle creek',\n",
       "       'central michigan', 'detroit metro', 'flint', 'grand rapids',\n",
       "       'holland', 'jackson', 'kalamazoo', 'lansing', 'muskegon',\n",
       "       'northern michigan', 'port huron', 'saginaw-midland-baycity',\n",
       "       'southwest michigan', 'the thumb', 'upper peninsula', 'bemidji',\n",
       "       'brainerd', 'duluth / superior', 'fargo / moorhead', 'mankato',\n",
       "       'minneapolis / st paul', 'rochester', 'southwest MN', 'st cloud',\n",
       "       'gulfport / biloxi', 'hattiesburg', 'meridian',\n",
       "       'north mississippi', 'columbia / jeff city', 'joplin',\n",
       "       'kirksville', 'lake of the ozarks', 'southeast missouri',\n",
       "       'st joseph', 'st louis', 'billings', 'bozeman', 'butte',\n",
       "       'eastern montana', 'great falls', 'helena', 'kalispell',\n",
       "       'missoula', 'asheville', 'boone', 'charlotte', 'eastern NC',\n",
       "       'greensboro', 'hickory / lenoir', 'outer banks',\n",
       "       'raleigh / durham / CH', 'wilmington', 'winston-salem',\n",
       "       'grand island', 'lincoln', 'north platte',\n",
       "       'scottsbluff / panhandle', 'elko', 'las vegas', 'central NJ',\n",
       "       'jersey shore', 'north jersey', 'south jersey', 'albuquerque',\n",
       "       'clovis / portales', 'farmington', 'las cruces',\n",
       "       'roswell / carlsbad', 'santa fe / taos', 'binghamton', 'buffalo',\n",
       "       'catskills', 'chautauqua', 'elmira-corning', 'finger lakes',\n",
       "       'glens falls', 'hudson valley', 'ithaca', 'long island',\n",
       "       'new york city', 'plattsburgh-adirondacks',\n",
       "       'potsdam-canton-massena', 'syracuse', 'twin tiers NY/PA',\n",
       "       'utica-rome-oneida', 'watertown', 'new hampshire', 'bismarck',\n",
       "       'grand forks', 'north dakota', 'akron / canton', 'ashtabula',\n",
       "       'cincinnati', 'cleveland', 'dayton / springfield',\n",
       "       'lima / findlay', 'mansfield', 'northern panhandle',\n",
       "       'parkersburg-marietta', 'sandusky', 'toledo', 'youngstown',\n",
       "       'zanesville / cambridge', 'lawton', 'northwest OK',\n",
       "       'oklahoma city', 'stillwater', 'texoma', 'tulsa', 'bend',\n",
       "       'corvallis/albany', 'east oregon', 'eugene', 'klamath falls',\n",
       "       'medford-ashland', 'oregon coast', 'portland', 'roseburg', 'salem',\n",
       "       'altoona-johnstown', 'erie', 'harrisburg', 'lancaster',\n",
       "       'lehigh valley', 'meadville', 'philadelphia', 'pittsburgh',\n",
       "       'poconos', 'reading', 'scranton / wilkes-barre', 'state college',\n",
       "       'williamsport', 'york', 'rhode island', 'charleston', 'columbia',\n",
       "       'florence', 'greenville / upstate', 'hilton head', 'myrtle beach',\n",
       "       'northeast SD', 'pierre / central SD', 'rapid city / west SD',\n",
       "       'sioux falls / SE SD', 'south dakota', 'chattanooga',\n",
       "       'clarksville', 'cookeville', 'knoxville', 'memphis', 'nashville',\n",
       "       'tri-cities', 'abilene', 'amarillo', 'austin',\n",
       "       'beaumont / port arthur', 'brownsville', 'college station',\n",
       "       'corpus christi', 'dallas / fort worth', 'deep east texas',\n",
       "       'del rio / eagle pass', 'el paso', 'galveston', 'houston',\n",
       "       'killeen / temple / ft hood', 'laredo', 'lubbock',\n",
       "       'mcallen / edinburg', 'odessa / midland', 'san angelo',\n",
       "       'san antonio', 'san marcos', 'southwest TX', 'tyler / east TX',\n",
       "       'victoria', 'waco', 'wichita falls', 'logan', 'ogden-clearfield',\n",
       "       'provo / orem', 'salt lake city', 'st george', 'vermont',\n",
       "       'charlottesville', 'danville', 'fredericksburg', 'harrisonburg',\n",
       "       'lynchburg', 'new river valley', 'norfolk / hampton roads',\n",
       "       'richmond', 'roanoke', 'southwest VA', 'winchester', 'bellingham',\n",
       "       'kennewick-pasco-richland', 'moses lake', 'olympic peninsula',\n",
       "       'seattle-tacoma', 'skagit / island / SJI', 'wenatchee', 'yakima',\n",
       "       'eastern panhandle', 'morgantown', 'southern WV',\n",
       "       'appleton-oshkosh-FDL', 'eau claire', 'green bay', 'janesville',\n",
       "       'kenosha-racine', 'la crosse', 'madison', 'milwaukee',\n",
       "       'northern WI', 'sheboygan', 'wausau', 'wyoming'], dtype=object)"
      ]
     },
     "execution_count": 11,
     "metadata": {},
     "output_type": "execute_result"
    }
   ],
   "source": [
    "\n",
    "df['region'].unique()"
   ]
  },
  {
   "cell_type": "code",
   "execution_count": 12,
   "id": "060561a9",
   "metadata": {},
   "outputs": [
    {
     "data": {
      "text/plain": [
       "array(['chevrolet', 'toyota', 'bmw', 'mazda', 'ford', 'mercedes-benz',\n",
       "       'ferrari', 'lexus', 'audi', 'mitsubishi', 'infiniti', 'nissan',\n",
       "       'volkswagen', 'honda', 'ram', 'hyundai', 'fiat', 'cadillac',\n",
       "       'jeep', 'gmc', 'jaguar', 'volvo', 'dodge', 'kia', 'chrysler',\n",
       "       'subaru', 'acura', 'mini', 'buick', 'rover', 'lincoln', 'porsche',\n",
       "       'saturn', 'harley-davidson', 'pontiac', 'mercury', 'tesla',\n",
       "       'alfa-romeo', 'datsun', 'land rover', 'aston-martin'], dtype=object)"
      ]
     },
     "execution_count": 12,
     "metadata": {},
     "output_type": "execute_result"
    }
   ],
   "source": [
    "df['manufacturer'].unique()"
   ]
  },
  {
   "cell_type": "code",
   "execution_count": 13,
   "id": "b04bf9bd",
   "metadata": {},
   "outputs": [
    {
     "data": {
      "text/plain": [
       "model\n",
       "f-150                         943\n",
       "silverado 1500                929\n",
       "1500                          482\n",
       "2500                          332\n",
       "sierra 1500                   330\n",
       "                             ... \n",
       "odyssey ex l w/navi             1\n",
       "1500 big horn 4x4 crew cab      1\n",
       "sl-class sl500                  1\n",
       "lacrosse leather sedan          1\n",
       "cruze, 2lt                      1\n",
       "Name: count, Length: 5122, dtype: int64"
      ]
     },
     "execution_count": 13,
     "metadata": {},
     "output_type": "execute_result"
    }
   ],
   "source": [
    "df['model'].value_counts()"
   ]
  },
  {
   "cell_type": "code",
   "execution_count": 14,
   "id": "73fb8a5f",
   "metadata": {},
   "outputs": [
    {
     "data": {
      "text/plain": [
       "array(['1GCWGAFP8J1309579', '1GCWGAFP4K1214373', '1GCWGAFPXJ1337903', ...,\n",
       "       '4S3BL616557201459', '2HGES15535H620534', 'SAJGX2749VCOO8376'],\n",
       "      dtype=object)"
      ]
     },
     "execution_count": 14,
     "metadata": {},
     "output_type": "execute_result"
    }
   ],
   "source": [
    "df['VIN'].unique()"
   ]
  },
  {
   "cell_type": "code",
   "execution_count": 15,
   "id": "2d171aac",
   "metadata": {},
   "outputs": [
    {
     "data": {
      "text/plain": [
       "condition\n",
       "excellent    19994\n",
       "good         10122\n",
       "like new      3932\n",
       "fair           492\n",
       "new            209\n",
       "salvage         36\n",
       "Name: count, dtype: int64"
      ]
     },
     "execution_count": 15,
     "metadata": {},
     "output_type": "execute_result"
    }
   ],
   "source": [
    "df['condition'].value_counts()"
   ]
  },
  {
   "cell_type": "code",
   "execution_count": 16,
   "id": "74e6bace",
   "metadata": {
    "scrolled": false
   },
   "outputs": [
    {
     "data": {
      "text/plain": [
       "cylinders\n",
       "6 cylinders     11594\n",
       "4 cylinders     11279\n",
       "8 cylinders     10892\n",
       "10 cylinders      565\n",
       "5 cylinders       281\n",
       "other              96\n",
       "3 cylinders        67\n",
       "12 cylinders       11\n",
       "Name: count, dtype: int64"
      ]
     },
     "execution_count": 16,
     "metadata": {},
     "output_type": "execute_result"
    }
   ],
   "source": [
    "df['cylinders'].value_counts()"
   ]
  },
  {
   "cell_type": "code",
   "execution_count": 17,
   "id": "1ee4e75d",
   "metadata": {},
   "outputs": [
    {
     "data": {
      "text/plain": [
       "title_status\n",
       "clean         33605\n",
       "rebuilt         790\n",
       "salvage         240\n",
       "lien            134\n",
       "missing          14\n",
       "parts only        2\n",
       "Name: count, dtype: int64"
      ]
     },
     "execution_count": 17,
     "metadata": {},
     "output_type": "execute_result"
    }
   ],
   "source": [
    "df['title_status'].value_counts()"
   ]
  },
  {
   "cell_type": "code",
   "execution_count": 18,
   "id": "72a1376f",
   "metadata": {},
   "outputs": [
    {
     "data": {
      "text/plain": [
       "transmission\n",
       "automatic    32395\n",
       "manual        1691\n",
       "other          699\n",
       "Name: count, dtype: int64"
      ]
     },
     "execution_count": 18,
     "metadata": {},
     "output_type": "execute_result"
    }
   ],
   "source": [
    "df['transmission'].value_counts()"
   ]
  },
  {
   "cell_type": "code",
   "execution_count": 19,
   "id": "ea8d5fb6",
   "metadata": {},
   "outputs": [
    {
     "data": {
      "text/plain": [
       "size\n",
       "full-size      20213\n",
       "mid-size        9876\n",
       "compact         4052\n",
       "sub-compact      644\n",
       "Name: count, dtype: int64"
      ]
     },
     "execution_count": 19,
     "metadata": {},
     "output_type": "execute_result"
    }
   ],
   "source": [
    "df['size'].value_counts()"
   ]
  },
  {
   "cell_type": "code",
   "execution_count": 20,
   "id": "4d9133de",
   "metadata": {},
   "outputs": [
    {
     "data": {
      "text/plain": [
       "drive\n",
       "4wd    16535\n",
       "fwd    10935\n",
       "rwd     7315\n",
       "Name: count, dtype: int64"
      ]
     },
     "execution_count": 20,
     "metadata": {},
     "output_type": "execute_result"
    }
   ],
   "source": [
    "df['drive'].value_counts()"
   ]
  },
  {
   "cell_type": "code",
   "execution_count": 21,
   "id": "252f85b4",
   "metadata": {},
   "outputs": [
    {
     "data": {
      "text/plain": [
       "array(['van', 'sedan', 'convertible', 'truck', 'coupe', 'SUV',\n",
       "       'hatchback', 'wagon', 'pickup', 'other', 'mini-van', 'offroad',\n",
       "       'bus'], dtype=object)"
      ]
     },
     "execution_count": 21,
     "metadata": {},
     "output_type": "execute_result"
    }
   ],
   "source": [
    "df['type'].unique()"
   ]
  },
  {
   "cell_type": "code",
   "execution_count": 22,
   "id": "da029281",
   "metadata": {},
   "outputs": [
    {
     "data": {
      "text/plain": [
       "array(['white', 'blue', 'silver', 'red', 'grey', 'black', 'brown',\n",
       "       'green', 'custom', 'yellow', 'orange', 'purple'], dtype=object)"
      ]
     },
     "execution_count": 22,
     "metadata": {},
     "output_type": "execute_result"
    }
   ],
   "source": [
    "df['paint_color'].unique()"
   ]
  },
  {
   "cell_type": "code",
   "execution_count": 23,
   "id": "f1dd60f1",
   "metadata": {},
   "outputs": [
    {
     "data": {
      "text/plain": [
       "fuel\n",
       "gas         31235\n",
       "diesel       3015\n",
       "hybrid        424\n",
       "electric       79\n",
       "other          32\n",
       "Name: count, dtype: int64"
      ]
     },
     "execution_count": 23,
     "metadata": {},
     "output_type": "execute_result"
    }
   ],
   "source": [
    "df['fuel'].value_counts()"
   ]
  },
  {
   "cell_type": "code",
   "execution_count": 24,
   "id": "e99989a9",
   "metadata": {},
   "outputs": [
    {
     "data": {
      "text/plain": [
       "array(['al', 'ak', 'az', 'ar', 'ca', 'co', 'ct', 'dc', 'de', 'fl', 'ga',\n",
       "       'hi', 'id', 'il', 'in', 'ia', 'ks', 'ky', 'la', 'me', 'md', 'ma',\n",
       "       'mi', 'mn', 'ms', 'mo', 'mt', 'nc', 'ne', 'nv', 'nj', 'nm', 'ny',\n",
       "       'nh', 'nd', 'oh', 'ok', 'or', 'pa', 'ri', 'sc', 'sd', 'tn', 'tx',\n",
       "       'ut', 'vt', 'va', 'wa', 'wv', 'wi', 'wy'], dtype=object)"
      ]
     },
     "execution_count": 24,
     "metadata": {},
     "output_type": "execute_result"
    }
   ],
   "source": [
    "df['state'].unique()"
   ]
  },
  {
   "cell_type": "code",
   "execution_count": 25,
   "id": "812bfa0b",
   "metadata": {},
   "outputs": [
    {
     "data": {
      "text/plain": [
       "Index(['region', 'price', 'manufacturer', 'model', 'condition', 'cylinders',\n",
       "       'fuel', 'odometer', 'title_status', 'transmission', 'VIN', 'drive',\n",
       "       'size', 'type', 'paint_color', 'state', 'lat', 'long', 'posting_date'],\n",
       "      dtype='object')"
      ]
     },
     "execution_count": 25,
     "metadata": {},
     "output_type": "execute_result"
    }
   ],
   "source": [
    "df.columns"
   ]
  },
  {
   "cell_type": "code",
   "execution_count": 26,
   "id": "f5431a90",
   "metadata": {},
   "outputs": [
    {
     "data": {
      "text/plain": [
       "region          0\n",
       "price           0\n",
       "manufacturer    0\n",
       "model           0\n",
       "condition       0\n",
       "cylinders       0\n",
       "fuel            0\n",
       "odometer        0\n",
       "title_status    0\n",
       "transmission    0\n",
       "VIN             0\n",
       "drive           0\n",
       "size            0\n",
       "type            0\n",
       "paint_color     0\n",
       "state           0\n",
       "lat             0\n",
       "long            0\n",
       "posting_date    0\n",
       "dtype: int64"
      ]
     },
     "execution_count": 26,
     "metadata": {},
     "output_type": "execute_result"
    }
   ],
   "source": [
    "df.isnull().sum()"
   ]
  },
  {
   "cell_type": "code",
   "execution_count": 27,
   "id": "6f5e301a",
   "metadata": {},
   "outputs": [
    {
     "data": {
      "text/plain": [
       "array([    0,  4000,  2500, ..., 12589, 11589,  4790], dtype=int64)"
      ]
     },
     "execution_count": 27,
     "metadata": {},
     "output_type": "execute_result"
    }
   ],
   "source": [
    "df.price.unique()"
   ]
  },
  {
   "cell_type": "code",
   "execution_count": 28,
   "id": "a84106af",
   "metadata": {},
   "outputs": [
    {
     "data": {
      "text/plain": [
       "(34785, 19)"
      ]
     },
     "execution_count": 28,
     "metadata": {},
     "output_type": "execute_result"
    }
   ],
   "source": [
    "df.shape"
   ]
  },
  {
   "cell_type": "code",
   "execution_count": 29,
   "id": "5a7548a7",
   "metadata": {},
   "outputs": [
    {
     "data": {
      "text/plain": [
       "price\n",
       "0        2355\n",
       "1         683\n",
       "6995      371\n",
       "9995      369\n",
       "7995      365\n",
       "         ... \n",
       "27981       1\n",
       "30981       1\n",
       "49981       1\n",
       "36981       1\n",
       "4790        1\n",
       "Name: count, Length: 3135, dtype: int64"
      ]
     },
     "execution_count": 29,
     "metadata": {},
     "output_type": "execute_result"
    }
   ],
   "source": [
    "df.price.value_counts()"
   ]
  },
  {
   "cell_type": "code",
   "execution_count": 30,
   "id": "6205e951",
   "metadata": {},
   "outputs": [],
   "source": [
    "current_year = 2023"
   ]
  },
  {
   "cell_type": "code",
   "execution_count": 31,
   "id": "f3b94828",
   "metadata": {},
   "outputs": [
    {
     "name": "stderr",
     "output_type": "stream",
     "text": [
      "c:\\Users\\vinod\\anaconda3\\envs\\cars\\Lib\\site-packages\\seaborn\\axisgrid.py:118: UserWarning: The figure layout has changed to tight\n",
      "  self._figure.tight_layout(*args, **kwargs)\n"
     ]
    },
    {
     "data": {
      "text/plain": [
       "<seaborn.axisgrid.FacetGrid at 0x14976230190>"
      ]
     },
     "execution_count": 31,
     "metadata": {},
     "output_type": "execute_result"
    },
    {
     "data": {
      "image/png": "[encoded data removed]",
      "text/plain": [
       "<Figure size 1800x600 with 1 Axes>"
      ]
     },
     "metadata": {},
     "output_type": "display_data"
    }
   ],
   "source": [
    "sns.catplot(y='price',x='condition', data=df.sort_values('price', ascending=False),kind=\"boxen\", height= 6, aspect=3)"
   ]
  },
  {
   "cell_type": "code",
   "execution_count": 32,
   "id": "8d35338f",
   "metadata": {},
   "outputs": [
    {
     "name": "stderr",
     "output_type": "stream",
     "text": [
      "c:\\Users\\vinod\\anaconda3\\envs\\cars\\Lib\\site-packages\\seaborn\\axisgrid.py:118: UserWarning: The figure layout has changed to tight\n",
      "  self._figure.tight_layout(*args, **kwargs)\n"
     ]
    },
    {
     "data": {
      "text/plain": [
       "<seaborn.axisgrid.FacetGrid at 0x149762bd310>"
      ]
     },
     "execution_count": 32,
     "metadata": {},
     "output_type": "execute_result"
    },
    {
     "data": {
      "image/png": "[encoded data removed]",
      "text/plain": [
       "<Figure size 1800x600 with 1 Axes>"
      ]
     },
     "metadata": {},
     "output_type": "display_data"
    }
   ],
   "source": [
    "sns.catplot(y='price',x='cylinders', data=df.sort_values('price', ascending=False),kind=\"boxen\", height= 6, aspect=3)"
   ]
  },
  {
   "cell_type": "code",
   "execution_count": 33,
   "id": "0ad37463",
   "metadata": {},
   "outputs": [
    {
     "name": "stderr",
     "output_type": "stream",
     "text": [
      "c:\\Users\\vinod\\anaconda3\\envs\\cars\\Lib\\site-packages\\seaborn\\axisgrid.py:118: UserWarning: The figure layout has changed to tight\n",
      "  self._figure.tight_layout(*args, **kwargs)\n"
     ]
    },
    {
     "data": {
      "text/plain": [
       "<seaborn.axisgrid.FacetGrid at 0x14978019250>"
      ]
     },
     "execution_count": 33,
     "metadata": {},
     "output_type": "execute_result"
    },
    {
     "data": {
      "image/png": "[encoded data removed]",
      "text/plain": [
       "<Figure size 1800x600 with 1 Axes>"
      ]
     },
     "metadata": {},
     "output_type": "display_data"
    }
   ],
   "source": [
    "sns.catplot(y='price',x='fuel', data=df.sort_values('price', ascending=False),kind=\"boxen\", height= 6, aspect=3)"
   ]
  },
  {
   "cell_type": "code",
   "execution_count": 34,
   "id": "5434c737",
   "metadata": {},
   "outputs": [
    {
     "name": "stderr",
     "output_type": "stream",
     "text": [
      "c:\\Users\\vinod\\anaconda3\\envs\\cars\\Lib\\site-packages\\seaborn\\axisgrid.py:118: UserWarning: The figure layout has changed to tight\n",
      "  self._figure.tight_layout(*args, **kwargs)\n"
     ]
    },
    {
     "data": {
      "text/plain": [
       "<seaborn.axisgrid.FacetGrid at 0x149780115d0>"
      ]
     },
     "execution_count": 34,
     "metadata": {},
     "output_type": "execute_result"
    },
    {
     "data": {
      "image/png": "[encoded data removed]",
      "text/plain": [
       "<Figure size 1800x600 with 1 Axes>"
      ]
     },
     "metadata": {},
     "output_type": "display_data"
    }
   ],
   "source": [
    "sns.catplot(y='price',x='transmission', data=df.sort_values('price', ascending=False),kind=\"boxen\", height= 6, aspect=3)"
   ]
  },
  {
   "cell_type": "code",
   "execution_count": 35,
   "id": "880aaca0",
   "metadata": {},
   "outputs": [
    {
     "name": "stderr",
     "output_type": "stream",
     "text": [
      "c:\\Users\\vinod\\anaconda3\\envs\\cars\\Lib\\site-packages\\seaborn\\axisgrid.py:118: UserWarning: The figure layout has changed to tight\n",
      "  self._figure.tight_layout(*args, **kwargs)\n"
     ]
    },
    {
     "data": {
      "text/plain": [
       "<seaborn.axisgrid.FacetGrid at 0x14977f9e5d0>"
      ]
     },
     "execution_count": 35,
     "metadata": {},
     "output_type": "execute_result"
    },
    {
     "data": {
      "image/png": "[encoded data removed]",
      "text/plain": [
       "<Figure size 1800x600 with 1 Axes>"
      ]
     },
     "metadata": {},
     "output_type": "display_data"
    }
   ],
   "source": [
    "sns.catplot(y='price',x='size', data=df.sort_values('price', ascending=False),kind=\"boxen\", height= 6, aspect=3)"
   ]
  },
  {
   "cell_type": "code",
   "execution_count": 36,
   "id": "58a27e7a",
   "metadata": {},
   "outputs": [
    {
     "data": {
      "text/plain": [
       "Index(['region', 'price', 'manufacturer', 'model', 'condition', 'cylinders',\n",
       "       'fuel', 'odometer', 'title_status', 'transmission', 'VIN', 'drive',\n",
       "       'size', 'type', 'paint_color', 'state', 'lat', 'long', 'posting_date'],\n",
       "      dtype='object')"
      ]
     },
     "execution_count": 36,
     "metadata": {},
     "output_type": "execute_result"
    }
   ],
   "source": [
    "df.columns"
   ]
  },
  {
   "cell_type": "code",
   "execution_count": 37,
   "id": "1108e760",
   "metadata": {},
   "outputs": [
    {
     "data": {
      "text/plain": [
       "array(['chevrolet', 'toyota', 'bmw', 'mazda', 'ford', 'mercedes-benz',\n",
       "       'ferrari', 'lexus', 'audi', 'mitsubishi', 'infiniti', 'nissan',\n",
       "       'volkswagen', 'honda', 'ram', 'hyundai', 'fiat', 'cadillac',\n",
       "       'jeep', 'gmc', 'jaguar', 'volvo', 'dodge', 'kia', 'chrysler',\n",
       "       'subaru', 'acura', 'mini', 'buick', 'rover', 'lincoln', 'porsche',\n",
       "       'saturn', 'harley-davidson', 'pontiac', 'mercury', 'tesla',\n",
       "       'alfa-romeo', 'datsun', 'land rover', 'aston-martin'], dtype=object)"
      ]
     },
     "execution_count": 37,
     "metadata": {},
     "output_type": "execute_result"
    }
   ],
   "source": [
    "df['manufacturer'].unique()"
   ]
  },
  {
   "cell_type": "code",
   "execution_count": 38,
   "id": "e2832ed1",
   "metadata": {},
   "outputs": [],
   "source": [
    "df.replace({'chevrolet':0, 'toyota':1, 'bmw':2, 'mazda':3, 'ford':4, 'mercedes-benz':5,\n",
    "       'ferrari':6, 'lexus':7, 'audi':8, 'mitsubishi':9, 'infiniti':10, 'nissan':11,\n",
    "       'volkswagen':12, 'honda':13, 'ram':14, 'hyundai':15, 'fiat':16, 'cadillac':17,\n",
    "       'jeep':18, 'gmc':19, 'jaguar':20, 'volvo':21, 'dodge':22, 'kia':23, 'chrysler':24,\n",
    "       'subaru':25, 'acura':26, 'mini':27, 'buick':28, 'rover':29, 'lincoln':30, 'porsche':31,\n",
    "       'saturn':32, 'harley-davidson':33, 'pontiac':34, 'mercury':35, 'tesla':36,\n",
    "       'alfa-romeo':37, 'datsun':38, 'land rover':39, 'aston-martin':40,'excellent':0,\n",
    "       'good':1,'like new':2,'fair':3,'new':4,'salvage':5,'6 cylinders':3,'4 cylinders':1,\n",
    "       '8 cylinders':4,'10 cylinders':5, '5 cylinders':2, 'other':7,'3 cylinders':0,'12 cylinders':6, \n",
    "       'clean':0,'rebuilt':1,'salvage':2, 'lien':3,'missing':4,'parts only':5,'automatic':0,'manual':1,'other':2,\n",
    "       'full-size':0,'mid-size':1,'compact':2,'sub-compact':3,'4wd':0,'fwd':1,'rwd':2,'SUV':0,'sedan':1,'truck':2,\n",
    "       'pickup':3,'van':4,'coupe':5,'hatchback':6,'wagon':7,'convertible':8,'mini-van':9,'other':10,'offroad':11,'bus':12,\n",
    "       'white':0, 'blue':1, 'silver':2, 'red':3, 'grey':4, 'black':5, 'brown':6,\n",
    "       'green':7, 'custom':8, 'yellow':9, 'orange':10, 'purple':11,\n",
    "       'al':0, 'ak':1, 'az':2, 'ar':3, 'ca':4, 'co':5, 'ct':6, 'dc':7, 'de':8, 'fl':9, 'ga':10,\n",
    "       'hi':11, 'id':12, 'il':13, 'in':14, 'ia':15, 'ks':16, 'ky':17, 'la':18, 'me':19, 'md':20, 'ma':21,\n",
    "       'mi':22, 'mn':23, 'ms':24, 'mo':25, 'mt':26, 'nc':27, 'ne':28, 'nv':29, 'nj':30, 'nm':31, 'ny':32,\n",
    "       'nh':33, 'nd':34, 'oh':35, 'ok':36, 'or':37, 'pa':38, 'ri':39, 'sc':40, 'sd':41, 'tn':42, 'tx':43,\n",
    "       'ut':44, 'vt':45, 'va':46, 'wa':47, 'wv':48, 'wi':49, 'wy':50},inplace=True)\n"
   ]
  },
  {
   "cell_type": "code",
   "execution_count": 39,
   "id": "42a835bb",
   "metadata": {},
   "outputs": [
    {
     "data": {
      "text/plain": [
       "array([ 0,  1,  2,  3,  4,  5,  6,  7,  8,  9, 10, 11, 12, 13, 14, 15, 16,\n",
       "       17, 18, 19, 20, 21, 22, 23, 24, 25, 26, 27, 28, 29, 30, 31, 32, 33,\n",
       "       34, 35, 36, 37, 38, 39, 40], dtype=int64)"
      ]
     },
     "execution_count": 39,
     "metadata": {},
     "output_type": "execute_result"
    }
   ],
   "source": [
    "df['manufacturer'].unique()"
   ]
  },
  {
   "cell_type": "code",
   "execution_count": 40,
   "id": "f9b07aa9",
   "metadata": {},
   "outputs": [
    {
     "data": {
      "text/html": [
       "<div>\n",
       "<style scoped>\n",
       "    .dataframe tbody tr th:only-of-type {\n",
       "        vertical-align: middle;\n",
       "    }\n",
       "\n",
       "    .dataframe tbody tr th {\n",
       "        vertical-align: top;\n",
       "    }\n",
       "\n",
       "    .dataframe thead th {\n",
       "        text-align: right;\n",
       "    }\n",
       "</style>\n",
       "<table border=\"1\" class=\"dataframe\">\n",
       "  <thead>\n",
       "    <tr style=\"text-align: right;\">\n",
       "      <th></th>\n",
       "      <th>region</th>\n",
       "      <th>price</th>\n",
       "      <th>manufacturer</th>\n",
       "      <th>model</th>\n",
       "      <th>condition</th>\n",
       "      <th>cylinders</th>\n",
       "      <th>fuel</th>\n",
       "      <th>odometer</th>\n",
       "      <th>title_status</th>\n",
       "      <th>transmission</th>\n",
       "      <th>VIN</th>\n",
       "      <th>drive</th>\n",
       "      <th>size</th>\n",
       "      <th>type</th>\n",
       "      <th>paint_color</th>\n",
       "      <th>state</th>\n",
       "      <th>lat</th>\n",
       "      <th>long</th>\n",
       "      <th>posting_date</th>\n",
       "    </tr>\n",
       "  </thead>\n",
       "  <tbody>\n",
       "    <tr>\n",
       "      <th>126</th>\n",
       "      <td>auburn</td>\n",
       "      <td>0</td>\n",
       "      <td>0</td>\n",
       "      <td>express cargo van</td>\n",
       "      <td>2</td>\n",
       "      <td>3</td>\n",
       "      <td>gas</td>\n",
       "      <td>68472.0</td>\n",
       "      <td>0</td>\n",
       "      <td>0</td>\n",
       "      <td>1GCWGAFP8J1309579</td>\n",
       "      <td>2</td>\n",
       "      <td>0</td>\n",
       "      <td>4</td>\n",
       "      <td>0</td>\n",
       "      <td>0</td>\n",
       "      <td>31.425091</td>\n",
       "      <td>-85.617723</td>\n",
       "      <td>2021-04-12T11:20:35-0500</td>\n",
       "    </tr>\n",
       "    <tr>\n",
       "      <th>127</th>\n",
       "      <td>auburn</td>\n",
       "      <td>0</td>\n",
       "      <td>0</td>\n",
       "      <td>express cargo van</td>\n",
       "      <td>2</td>\n",
       "      <td>3</td>\n",
       "      <td>gas</td>\n",
       "      <td>69125.0</td>\n",
       "      <td>0</td>\n",
       "      <td>0</td>\n",
       "      <td>1GCWGAFP4K1214373</td>\n",
       "      <td>2</td>\n",
       "      <td>0</td>\n",
       "      <td>4</td>\n",
       "      <td>0</td>\n",
       "      <td>0</td>\n",
       "      <td>31.425091</td>\n",
       "      <td>-85.617723</td>\n",
       "      <td>2021-04-12T11:20:00-0500</td>\n",
       "    </tr>\n",
       "    <tr>\n",
       "      <th>128</th>\n",
       "      <td>auburn</td>\n",
       "      <td>0</td>\n",
       "      <td>0</td>\n",
       "      <td>express cargo van</td>\n",
       "      <td>2</td>\n",
       "      <td>3</td>\n",
       "      <td>gas</td>\n",
       "      <td>66555.0</td>\n",
       "      <td>0</td>\n",
       "      <td>0</td>\n",
       "      <td>1GCWGAFPXJ1337903</td>\n",
       "      <td>2</td>\n",
       "      <td>0</td>\n",
       "      <td>4</td>\n",
       "      <td>0</td>\n",
       "      <td>0</td>\n",
       "      <td>31.425091</td>\n",
       "      <td>-85.617723</td>\n",
       "      <td>2021-04-12T11:19:58-0500</td>\n",
       "    </tr>\n",
       "    <tr>\n",
       "      <th>215</th>\n",
       "      <td>birmingham</td>\n",
       "      <td>4000</td>\n",
       "      <td>1</td>\n",
       "      <td>echo</td>\n",
       "      <td>0</td>\n",
       "      <td>1</td>\n",
       "      <td>gas</td>\n",
       "      <td>155000.0</td>\n",
       "      <td>0</td>\n",
       "      <td>0</td>\n",
       "      <td>JTDBT123520243495</td>\n",
       "      <td>1</td>\n",
       "      <td>2</td>\n",
       "      <td>1</td>\n",
       "      <td>1</td>\n",
       "      <td>0</td>\n",
       "      <td>33.913500</td>\n",
       "      <td>-84.685900</td>\n",
       "      <td>2021-05-03T17:48:17-0500</td>\n",
       "    </tr>\n",
       "    <tr>\n",
       "      <th>219</th>\n",
       "      <td>birmingham</td>\n",
       "      <td>2500</td>\n",
       "      <td>2</td>\n",
       "      <td>525i</td>\n",
       "      <td>3</td>\n",
       "      <td>3</td>\n",
       "      <td>gas</td>\n",
       "      <td>110661.0</td>\n",
       "      <td>0</td>\n",
       "      <td>0</td>\n",
       "      <td>WBAHD6322SGK86772</td>\n",
       "      <td>2</td>\n",
       "      <td>1</td>\n",
       "      <td>1</td>\n",
       "      <td>0</td>\n",
       "      <td>0</td>\n",
       "      <td>33.353800</td>\n",
       "      <td>-86.825400</td>\n",
       "      <td>2021-05-03T16:03:27-0500</td>\n",
       "    </tr>\n",
       "  </tbody>\n",
       "</table>\n",
       "</div>"
      ],
      "text/plain": [
       "         region  price  manufacturer              model  condition  cylinders  \\\n",
       "126      auburn      0             0  express cargo van          2          3   \n",
       "127      auburn      0             0  express cargo van          2          3   \n",
       "128      auburn      0             0  express cargo van          2          3   \n",
       "215  birmingham   4000             1               echo          0          1   \n",
       "219  birmingham   2500             2               525i          3          3   \n",
       "\n",
       "    fuel  odometer  title_status  transmission                VIN  drive  \\\n",
       "126  gas   68472.0             0             0  1GCWGAFP8J1309579      2   \n",
       "127  gas   69125.0             0             0  1GCWGAFP4K1214373      2   \n",
       "128  gas   66555.0             0             0  1GCWGAFPXJ1337903      2   \n",
       "215  gas  155000.0             0             0  JTDBT123520243495      1   \n",
       "219  gas  110661.0             0             0  WBAHD6322SGK86772      2   \n",
       "\n",
       "     size  type  paint_color  state        lat       long  \\\n",
       "126     0     4            0      0  31.425091 -85.617723   \n",
       "127     0     4            0      0  31.425091 -85.617723   \n",
       "128     0     4            0      0  31.425091 -85.617723   \n",
       "215     2     1            1      0  33.913500 -84.685900   \n",
       "219     1     1            0      0  33.353800 -86.825400   \n",
       "\n",
       "                 posting_date  \n",
       "126  2021-04-12T11:20:35-0500  \n",
       "127  2021-04-12T11:20:00-0500  \n",
       "128  2021-04-12T11:19:58-0500  \n",
       "215  2021-05-03T17:48:17-0500  \n",
       "219  2021-05-03T16:03:27-0500  "
      ]
     },
     "execution_count": 40,
     "metadata": {},
     "output_type": "execute_result"
    }
   ],
   "source": [
    "df.head()"
   ]
  },
  {
   "cell_type": "code",
   "execution_count": 41,
   "id": "0ac26ba4",
   "metadata": {},
   "outputs": [
    {
     "data": {
      "text/plain": [
       "Index(['region', 'price', 'manufacturer', 'model', 'condition', 'cylinders',\n",
       "       'fuel', 'odometer', 'title_status', 'transmission', 'VIN', 'drive',\n",
       "       'size', 'type', 'paint_color', 'state', 'lat', 'long', 'posting_date'],\n",
       "      dtype='object')"
      ]
     },
     "execution_count": 41,
     "metadata": {},
     "output_type": "execute_result"
    }
   ],
   "source": [
    "df.columns"
   ]
  },
  {
   "cell_type": "code",
   "execution_count": 42,
   "id": "0bf85ca5",
   "metadata": {},
   "outputs": [],
   "source": [
    "X = df.drop(['price','VIN','posting_date','region','fuel','model'],axis=1)"
   ]
  },
  {
   "cell_type": "code",
   "execution_count": 43,
   "id": "03c6f717",
   "metadata": {},
   "outputs": [],
   "source": [
    "y = df.iloc[:,1]"
   ]
  },
  {
   "cell_type": "code",
   "execution_count": 44,
   "id": "b029362f",
   "metadata": {},
   "outputs": [
    {
     "data": {
      "text/plain": [
       "price\n",
       "0        2355\n",
       "1         683\n",
       "6995      371\n",
       "9995      369\n",
       "7995      365\n",
       "         ... \n",
       "27981       1\n",
       "30981       1\n",
       "49981       1\n",
       "36981       1\n",
       "4790        1\n",
       "Name: count, Length: 3135, dtype: int64"
      ]
     },
     "execution_count": 44,
     "metadata": {},
     "output_type": "execute_result"
    }
   ],
   "source": [
    "y.value_counts()"
   ]
  },
  {
   "cell_type": "code",
   "execution_count": 45,
   "id": "853313cc",
   "metadata": {},
   "outputs": [
    {
     "data": {
      "text/html": [
       "<div>\n",
       "<style scoped>\n",
       "    .dataframe tbody tr th:only-of-type {\n",
       "        vertical-align: middle;\n",
       "    }\n",
       "\n",
       "    .dataframe tbody tr th {\n",
       "        vertical-align: top;\n",
       "    }\n",
       "\n",
       "    .dataframe thead th {\n",
       "        text-align: right;\n",
       "    }\n",
       "</style>\n",
       "<table border=\"1\" class=\"dataframe\">\n",
       "  <thead>\n",
       "    <tr style=\"text-align: right;\">\n",
       "      <th></th>\n",
       "      <th>manufacturer</th>\n",
       "      <th>condition</th>\n",
       "      <th>cylinders</th>\n",
       "      <th>odometer</th>\n",
       "      <th>title_status</th>\n",
       "      <th>transmission</th>\n",
       "      <th>drive</th>\n",
       "      <th>size</th>\n",
       "      <th>type</th>\n",
       "      <th>paint_color</th>\n",
       "      <th>state</th>\n",
       "      <th>lat</th>\n",
       "      <th>long</th>\n",
       "    </tr>\n",
       "  </thead>\n",
       "  <tbody>\n",
       "    <tr>\n",
       "      <th>126</th>\n",
       "      <td>0</td>\n",
       "      <td>2</td>\n",
       "      <td>3</td>\n",
       "      <td>68472.0</td>\n",
       "      <td>0</td>\n",
       "      <td>0</td>\n",
       "      <td>2</td>\n",
       "      <td>0</td>\n",
       "      <td>4</td>\n",
       "      <td>0</td>\n",
       "      <td>0</td>\n",
       "      <td>31.425091</td>\n",
       "      <td>-85.617723</td>\n",
       "    </tr>\n",
       "    <tr>\n",
       "      <th>127</th>\n",
       "      <td>0</td>\n",
       "      <td>2</td>\n",
       "      <td>3</td>\n",
       "      <td>69125.0</td>\n",
       "      <td>0</td>\n",
       "      <td>0</td>\n",
       "      <td>2</td>\n",
       "      <td>0</td>\n",
       "      <td>4</td>\n",
       "      <td>0</td>\n",
       "      <td>0</td>\n",
       "      <td>31.425091</td>\n",
       "      <td>-85.617723</td>\n",
       "    </tr>\n",
       "    <tr>\n",
       "      <th>128</th>\n",
       "      <td>0</td>\n",
       "      <td>2</td>\n",
       "      <td>3</td>\n",
       "      <td>66555.0</td>\n",
       "      <td>0</td>\n",
       "      <td>0</td>\n",
       "      <td>2</td>\n",
       "      <td>0</td>\n",
       "      <td>4</td>\n",
       "      <td>0</td>\n",
       "      <td>0</td>\n",
       "      <td>31.425091</td>\n",
       "      <td>-85.617723</td>\n",
       "    </tr>\n",
       "    <tr>\n",
       "      <th>215</th>\n",
       "      <td>1</td>\n",
       "      <td>0</td>\n",
       "      <td>1</td>\n",
       "      <td>155000.0</td>\n",
       "      <td>0</td>\n",
       "      <td>0</td>\n",
       "      <td>1</td>\n",
       "      <td>2</td>\n",
       "      <td>1</td>\n",
       "      <td>1</td>\n",
       "      <td>0</td>\n",
       "      <td>33.913500</td>\n",
       "      <td>-84.685900</td>\n",
       "    </tr>\n",
       "    <tr>\n",
       "      <th>219</th>\n",
       "      <td>2</td>\n",
       "      <td>3</td>\n",
       "      <td>3</td>\n",
       "      <td>110661.0</td>\n",
       "      <td>0</td>\n",
       "      <td>0</td>\n",
       "      <td>2</td>\n",
       "      <td>1</td>\n",
       "      <td>1</td>\n",
       "      <td>0</td>\n",
       "      <td>0</td>\n",
       "      <td>33.353800</td>\n",
       "      <td>-86.825400</td>\n",
       "    </tr>\n",
       "  </tbody>\n",
       "</table>\n",
       "</div>"
      ],
      "text/plain": [
       "     manufacturer  condition  cylinders  odometer  title_status  transmission  \\\n",
       "126             0          2          3   68472.0             0             0   \n",
       "127             0          2          3   69125.0             0             0   \n",
       "128             0          2          3   66555.0             0             0   \n",
       "215             1          0          1  155000.0             0             0   \n",
       "219             2          3          3  110661.0             0             0   \n",
       "\n",
       "     drive  size  type  paint_color  state        lat       long  \n",
       "126      2     0     4            0      0  31.425091 -85.617723  \n",
       "127      2     0     4            0      0  31.425091 -85.617723  \n",
       "128      2     0     4            0      0  31.425091 -85.617723  \n",
       "215      1     2     1            1      0  33.913500 -84.685900  \n",
       "219      2     1     1            0      0  33.353800 -86.825400  "
      ]
     },
     "execution_count": 45,
     "metadata": {},
     "output_type": "execute_result"
    }
   ],
   "source": [
    "X.head()"
   ]
  },
  {
   "cell_type": "markdown",
   "id": "9759c626",
   "metadata": {},
   "source": []
  },
  {
   "cell_type": "code",
   "execution_count": 46,
   "id": "7ceff5c2",
   "metadata": {},
   "outputs": [
    {
     "data": {
      "text/html": [
       "<style>#sk-container-id-1 {color: black;}#sk-container-id-1 pre{padding: 0;}#sk-container-id-1 div.sk-toggleable {background-color: white;}#sk-container-id-1 label.sk-toggleable__label {cursor: pointer;display: block;width: 100%;margin-bottom: 0;padding: 0.3em;box-sizing: border-box;text-align: center;}#sk-container-id-1 label.sk-toggleable__label-arrow:before {content: \"▸\";float: left;margin-right: 0.25em;color: #696969;}#sk-container-id-1 label.sk-toggleable__label-arrow:hover:before {color: black;}#sk-container-id-1 div.sk-estimator:hover label.sk-toggleable__label-arrow:before {color: black;}#sk-container-id-1 div.sk-toggleable__content {max-height: 0;max-width: 0;overflow: hidden;text-align: left;background-color: #f0f8ff;}#sk-container-id-1 div.sk-toggleable__content pre {margin: 0.2em;color: black;border-radius: 0.25em;background-color: #f0f8ff;}#sk-container-id-1 input.sk-toggleable__control:checked~div.sk-toggleable__content {max-height: 200px;max-width: 100%;overflow: auto;}#sk-container-id-1 input.sk-toggleable__control:checked~label.sk-toggleable__label-arrow:before {content: \"▾\";}#sk-container-id-1 div.sk-estimator input.sk-toggleable__control:checked~label.sk-toggleable__label {background-color: #d4ebff;}#sk-container-id-1 div.sk-label input.sk-toggleable__control:checked~label.sk-toggleable__label {background-color: #d4ebff;}#sk-container-id-1 input.sk-hidden--visually {border: 0;clip: rect(1px 1px 1px 1px);clip: rect(1px, 1px, 1px, 1px);height: 1px;margin: -1px;overflow: hidden;padding: 0;position: absolute;width: 1px;}#sk-container-id-1 div.sk-estimator {font-family: monospace;background-color: #f0f8ff;border: 1px dotted black;border-radius: 0.25em;box-sizing: border-box;margin-bottom: 0.5em;}#sk-container-id-1 div.sk-estimator:hover {background-color: #d4ebff;}#sk-container-id-1 div.sk-parallel-item::after {content: \"\";width: 100%;border-bottom: 1px solid gray;flex-grow: 1;}#sk-container-id-1 div.sk-label:hover label.sk-toggleable__label {background-color: #d4ebff;}#sk-container-id-1 div.sk-serial::before {content: \"\";position: absolute;border-left: 1px solid gray;box-sizing: border-box;top: 0;bottom: 0;left: 50%;z-index: 0;}#sk-container-id-1 div.sk-serial {display: flex;flex-direction: column;align-items: center;background-color: white;padding-right: 0.2em;padding-left: 0.2em;position: relative;}#sk-container-id-1 div.sk-item {position: relative;z-index: 1;}#sk-container-id-1 div.sk-parallel {display: flex;align-items: stretch;justify-content: center;background-color: white;position: relative;}#sk-container-id-1 div.sk-item::before, #sk-container-id-1 div.sk-parallel-item::before {content: \"\";position: absolute;border-left: 1px solid gray;box-sizing: border-box;top: 0;bottom: 0;left: 50%;z-index: -1;}#sk-container-id-1 div.sk-parallel-item {display: flex;flex-direction: column;z-index: 1;position: relative;background-color: white;}#sk-container-id-1 div.sk-parallel-item:first-child::after {align-self: flex-end;width: 50%;}#sk-container-id-1 div.sk-parallel-item:last-child::after {align-self: flex-start;width: 50%;}#sk-container-id-1 div.sk-parallel-item:only-child::after {width: 0;}#sk-container-id-1 div.sk-dashed-wrapped {border: 1px dashed gray;margin: 0 0.4em 0.5em 0.4em;box-sizing: border-box;padding-bottom: 0.4em;background-color: white;}#sk-container-id-1 div.sk-label label {font-family: monospace;font-weight: bold;display: inline-block;line-height: 1.2em;}#sk-container-id-1 div.sk-label-container {text-align: center;}#sk-container-id-1 div.sk-container {/* jupyter's `normalize.less` sets `[hidden] { display: none; }` but bootstrap.min.css set `[hidden] { display: none !important; }` so we also need the `!important` here to be able to override the default hidden behavior on the sphinx rendered scikit-learn.org. See: https://github.com/scikit-learn/scikit-learn/issues/21755 */display: inline-block !important;position: relative;}#sk-container-id-1 div.sk-text-repr-fallback {display: none;}</style><div id=\"sk-container-id-1\" class=\"sk-top-container\"><div class=\"sk-text-repr-fallback\"><pre>ExtraTreesRegressor()</pre><b>In a Jupyter environment, please rerun this cell to show the HTML representation or trust the notebook. <br />On GitHub, the HTML representation is unable to render, please try loading this page with nbviewer.org.</b></div><div class=\"sk-container\" hidden><div class=\"sk-item\"><div class=\"sk-estimator sk-toggleable\"><input class=\"sk-toggleable__control sk-hidden--visually\" id=\"sk-estimator-id-1\" type=\"checkbox\" checked><label for=\"sk-estimator-id-1\" class=\"sk-toggleable__label sk-toggleable__label-arrow\">ExtraTreesRegressor</label><div class=\"sk-toggleable__content\"><pre>ExtraTreesRegressor()</pre></div></div></div></div></div>"
      ],
      "text/plain": [
       "ExtraTreesRegressor()"
      ]
     },
     "execution_count": 46,
     "metadata": {},
     "output_type": "execute_result"
    }
   ],
   "source": [
    "#Extra tree regressor\n",
    "from sklearn.ensemble import ExtraTreesRegressor\n",
    "selection = ExtraTreesRegressor()\n",
    "selection.fit(X,y)"
   ]
  },
  {
   "cell_type": "code",
   "execution_count": 47,
   "id": "86a5e729",
   "metadata": {},
   "outputs": [],
   "source": [
    "from sklearn.model_selection import train_test_split\n",
    "X_train,X_test,y_train,y_test = train_test_split(X,y, test_size=0.2, random_state=0)"
   ]
  },
  {
   "cell_type": "code",
   "execution_count": 48,
   "id": "68af276d",
   "metadata": {},
   "outputs": [],
   "source": [
    "from sklearn.ensemble import RandomForestRegressor\n",
    "from sklearn.tree import DecisionTreeRegressor\n",
    "from sklearn.ensemble import GradientBoostingRegressor\n",
    "from sklearn.linear_model import LinearRegression\n",
    "from sklearn.neighbors import KNeighborsRegressor\n",
    "from sklearn.ensemble import AdaBoostRegressor"
   ]
  },
  {
   "cell_type": "code",
   "execution_count": 49,
   "id": "4e16647a",
   "metadata": {},
   "outputs": [],
   "source": [
    " models = {\n",
    "                \"Random Forest\" : RandomForestRegressor(),\n",
    "                \"Decision Tree\" : DecisionTreeRegressor(),\n",
    "                \"Grandient Boosting\" : GradientBoostingRegressor(),\n",
    "                \"Linear Regression\" : LinearRegression(),\n",
    "                \"K-Nearest Neighbors Regressor\" : KNeighborsRegressor(),\n",
    "                \"AdaBoost Regressor\" : AdaBoostRegressor()\n",
    "}"
   ]
  },
  {
   "cell_type": "code",
   "execution_count": 50,
   "id": "9f9b130a",
   "metadata": {},
   "outputs": [],
   "source": [
    "from sklearn.metrics import r2_score, mean_absolute_error, mean_squared_error"
   ]
  },
  {
   "cell_type": "code",
   "execution_count": 51,
   "id": "da6feb45",
   "metadata": {},
   "outputs": [],
   "source": [
    "def evaluate_models(actual,predicted):\n",
    "    mae = mean_absolute_error(actual, predicted)\n",
    "    mse = mean_squared_error(actual, predicted)\n",
    "    rmse = np.sqrt(mean_squared_error(actual, predicted))\n",
    "    r2_square = r2_score(actual,predicted)\n",
    "    return mae,rmse,r2_square"
   ]
  },
  {
   "cell_type": "code",
   "execution_count": 52,
   "id": "fbf207dc",
   "metadata": {},
   "outputs": [
    {
     "name": "stdout",
     "output_type": "stream",
     "text": [
      "Random Forest\n",
      "Model performance for Training set\n",
      "Mean Absolute Error : 1210.6908\n",
      "Root Mean Squared Error : 2420.0534\n",
      "Mean Absolute Error : 1210.6908\n",
      "R2 score : 0.9676\n",
      "Model performance for Test set\n",
      "Mean Absolute Error : 3176.9703\n",
      "Root Mean Squared Error : 5984.6660\n",
      "Mean Absolute Error : 3176.9703\n",
      "R2 score : 0.8060\n",
      "===================================\n",
      "\n",
      "\n",
      "Decision Tree\n",
      "Model performance for Training set\n",
      "Mean Absolute Error : 35.9632\n",
      "Root Mean Squared Error : 614.0218\n",
      "Mean Absolute Error : 35.9632\n",
      "R2 score : 0.9979\n",
      "Model performance for Test set\n",
      "Mean Absolute Error : 3619.2520\n",
      "Root Mean Squared Error : 7935.2727\n",
      "Mean Absolute Error : 3619.2520\n",
      "R2 score : 0.6590\n",
      "===================================\n",
      "\n",
      "\n",
      "Grandient Boosting\n",
      "Model performance for Training set\n",
      "Mean Absolute Error : 5833.5246\n",
      "Root Mean Squared Error : 8680.1392\n",
      "Mean Absolute Error : 5833.5246\n",
      "R2 score : 0.5826\n",
      "Model performance for Test set\n",
      "Mean Absolute Error : 6132.2622\n",
      "Root Mean Squared Error : 9011.9902\n",
      "Mean Absolute Error : 6132.2622\n",
      "R2 score : 0.5602\n",
      "===================================\n",
      "\n",
      "\n",
      "Linear Regression\n",
      "Model performance for Training set\n",
      "Mean Absolute Error : 8600.7847\n",
      "Root Mean Squared Error : 11965.6191\n",
      "Mean Absolute Error : 8600.7847\n",
      "R2 score : 0.2068\n",
      "Model performance for Test set\n",
      "Mean Absolute Error : 8850.2573\n",
      "Root Mean Squared Error : 12017.6224\n",
      "Mean Absolute Error : 8850.2573\n",
      "R2 score : 0.2179\n",
      "===================================\n",
      "\n",
      "\n",
      "K-Nearest Neighbors Regressor\n",
      "Model performance for Training set\n",
      "Mean Absolute Error : 5470.7887\n",
      "Root Mean Squared Error : 8641.1769\n",
      "Mean Absolute Error : 5470.7887\n",
      "R2 score : 0.5863\n",
      "Model performance for Test set\n",
      "Mean Absolute Error : 7079.8005\n",
      "Root Mean Squared Error : 10794.4644\n",
      "Mean Absolute Error : 7079.8005\n",
      "R2 score : 0.3690\n",
      "===================================\n",
      "\n",
      "\n",
      "AdaBoost Regressor\n",
      "Model performance for Training set\n",
      "Mean Absolute Error : 8903.8544\n",
      "Root Mean Squared Error : 11710.5103\n",
      "Mean Absolute Error : 8903.8544\n",
      "R2 score : 0.2403\n",
      "Model performance for Test set\n",
      "Mean Absolute Error : 9038.7612\n",
      "Root Mean Squared Error : 11884.6874\n",
      "Mean Absolute Error : 9038.7612\n",
      "R2 score : 0.2351\n",
      "===================================\n",
      "\n",
      "\n"
     ]
    }
   ],
   "source": [
    "model_list=[]\n",
    "r2_list=[]\n",
    "for i in range(len(list(models))):\n",
    "    model = list(models.values())[i]\n",
    "    model.fit(X_train, y_train) # Train model\n",
    "\n",
    "    # Make predictions\n",
    "    y_train_pred = model.predict(X_train)\n",
    "    y_test_pred = model.predict(X_test)\n",
    "    print(list(models.keys())[i])\n",
    "    model_list.append(list(models.keys())[i])\n",
    "    \n",
    "    #model evaluation\n",
    "    model_train_mae , model_train_rmse, model_train_r2 = evaluate_models(y_train, y_train_pred)\n",
    "    model_test_mae , model_test_rmse, model_test_r2 = evaluate_models(y_test, y_test_pred)\n",
    "    \n",
    "    print('Model performance for Training set')\n",
    "    print('Mean Absolute Error : {:.4f}'.format(model_train_mae))\n",
    "    print('Root Mean Squared Error : {:.4f}'.format(model_train_rmse))\n",
    "    print('Mean Absolute Error : {:.4f}'.format(model_train_mae))\n",
    "    print('R2 score : {:.4f}'.format(model_train_r2))\n",
    "    \n",
    "    print('Model performance for Test set')\n",
    "    print('Mean Absolute Error : {:.4f}'.format(model_test_mae))\n",
    "    print('Root Mean Squared Error : {:.4f}'.format(model_test_rmse))\n",
    "    print('Mean Absolute Error : {:.4f}'.format(model_test_mae))\n",
    "    print('R2 score : {:.4f}'.format(model_test_r2))\n",
    "    r2_list.append(model_test_r2)\n",
    "    print('='*35)\n",
    "    print('\\n')"
   ]
  },
  {
   "cell_type": "code",
   "execution_count": 53,
   "id": "b62ebc16",
   "metadata": {},
   "outputs": [
    {
     "data": {
      "text/html": [
       "<div>\n",
       "<style scoped>\n",
       "    .dataframe tbody tr th:only-of-type {\n",
       "        vertical-align: middle;\n",
       "    }\n",
       "\n",
       "    .dataframe tbody tr th {\n",
       "        vertical-align: top;\n",
       "    }\n",
       "\n",
       "    .dataframe thead th {\n",
       "        text-align: right;\n",
       "    }\n",
       "</style>\n",
       "<table border=\"1\" class=\"dataframe\">\n",
       "  <thead>\n",
       "    <tr style=\"text-align: right;\">\n",
       "      <th></th>\n",
       "      <th>Model Name</th>\n",
       "      <th>R2_Score</th>\n",
       "    </tr>\n",
       "  </thead>\n",
       "  <tbody>\n",
       "    <tr>\n",
       "      <th>0</th>\n",
       "      <td>Random Forest</td>\n",
       "      <td>0.806037</td>\n",
       "    </tr>\n",
       "    <tr>\n",
       "      <th>1</th>\n",
       "      <td>Decision Tree</td>\n",
       "      <td>0.658993</td>\n",
       "    </tr>\n",
       "    <tr>\n",
       "      <th>2</th>\n",
       "      <td>Grandient Boosting</td>\n",
       "      <td>0.560173</td>\n",
       "    </tr>\n",
       "    <tr>\n",
       "      <th>3</th>\n",
       "      <td>Linear Regression</td>\n",
       "      <td>0.217873</td>\n",
       "    </tr>\n",
       "    <tr>\n",
       "      <th>4</th>\n",
       "      <td>K-Nearest Neighbors Regressor</td>\n",
       "      <td>0.368981</td>\n",
       "    </tr>\n",
       "    <tr>\n",
       "      <th>5</th>\n",
       "      <td>AdaBoost Regressor</td>\n",
       "      <td>0.235081</td>\n",
       "    </tr>\n",
       "  </tbody>\n",
       "</table>\n",
       "</div>"
      ],
      "text/plain": [
       "                      Model Name  R2_Score\n",
       "0                  Random Forest  0.806037\n",
       "1                  Decision Tree  0.658993\n",
       "2             Grandient Boosting  0.560173\n",
       "3              Linear Regression  0.217873\n",
       "4  K-Nearest Neighbors Regressor  0.368981\n",
       "5             AdaBoost Regressor  0.235081"
      ]
     },
     "execution_count": 53,
     "metadata": {},
     "output_type": "execute_result"
    }
   ],
   "source": [
    "pd.DataFrame(list(zip(model_list, r2_list)), columns=['Model Name', 'R2_Score'])"
   ]
  },
  {
   "cell_type": "code",
   "execution_count": 54,
   "id": "b3092cab",
   "metadata": {},
   "outputs": [
    {
     "name": "stdout",
     "output_type": "stream",
     "text": [
      "train score 0.9682286561842479\n",
      "test score 0.8051312468589882\n"
     ]
    }
   ],
   "source": [
    "rf_reg = RandomForestRegressor()\n",
    "rf_reg.fit(X_train,y_train)\n",
    "pred = rf_reg.predict(X_test)\n",
    "print('train score',rf_reg.score(X_train,y_train))\n",
    "print('test score',rf_reg.score(X_test,y_test))"
   ]
  },
  {
   "cell_type": "code",
   "execution_count": 55,
   "id": "0e6d59f6",
   "metadata": {},
   "outputs": [
    {
     "name": "stdout",
     "output_type": "stream",
     "text": [
      "[0.54738487 0.61445963 0.62029472 0.58171127 0.56541156]\n",
      "0.5858524107546105\n",
      "5\n"
     ]
    }
   ],
   "source": [
    "from sklearn.model_selection import KFold, cross_val_score \n",
    "k_folds = KFold(n_splits=5)\n",
    "scores = cross_val_score(rf_reg, X, y, cv=k_folds)\n",
    "print(scores)\n",
    "print(scores.mean())\n",
    "print(len(scores))"
   ]
  },
  {
   "cell_type": "code",
   "execution_count": 56,
   "id": "b17555ee",
   "metadata": {},
   "outputs": [],
   "source": [
    "from sklearn.model_selection import RandomizedSearchCV\n",
    "\n",
    "n_estimators = [int(x) for x in np.linspace(start=100, stop=1200, num=12)]\n",
    "max_features = ['sqrt','auto']\n",
    "max_depth = [int(x) for x in np.linspace(5, 30, num=6)]\n",
    "min_sample_split = [2,5,10,15,100]\n",
    "min_sample_leaf = [1,2,5,10]\n",
    "\n",
    "random_grid = {'n_estimators':n_estimators,\n",
    "               'max_features':max_features,\n",
    "               'max_depth':max_depth}\n",
    "\n",
    "rf_random = RandomizedSearchCV(estimator=rf_reg,param_distributions=random_grid,scoring='neg_mean_squared_error',cv=2,verbose=2,random_state=42,n_jobs=1)\n",
    "\n"
   ]
  },
  {
   "cell_type": "code",
   "execution_count": 57,
   "id": "27ed2171",
   "metadata": {},
   "outputs": [
    {
     "name": "stdout",
     "output_type": "stream",
     "text": [
      "Fitting 2 folds for each of 10 candidates, totalling 20 fits\n",
      "[CV] END .max_depth=25, max_features=auto, n_estimators=1000; total time=   0.0s\n",
      "[CV] END .max_depth=25, max_features=auto, n_estimators=1000; total time=   0.0s\n",
      "[CV] END ...max_depth=5, max_features=auto, n_estimators=800; total time=   0.0s\n",
      "[CV] END ...max_depth=5, max_features=auto, n_estimators=800; total time=   0.0s\n",
      "[CV] END .max_depth=20, max_features=sqrt, n_estimators=1100; total time= 1.0min\n",
      "[CV] END .max_depth=20, max_features=sqrt, n_estimators=1100; total time= 1.0min\n",
      "[CV] END ..max_depth=25, max_features=sqrt, n_estimators=200; total time=  11.9s\n",
      "[CV] END ..max_depth=25, max_features=sqrt, n_estimators=200; total time=  11.9s\n",
      "[CV] END ..max_depth=15, max_features=sqrt, n_estimators=900; total time=  36.8s\n",
      "[CV] END ..max_depth=15, max_features=sqrt, n_estimators=900; total time=  36.4s\n",
      "[CV] END ...max_depth=5, max_features=auto, n_estimators=100; total time=   0.0s\n",
      "[CV] END ...max_depth=5, max_features=auto, n_estimators=100; total time=   0.0s\n",
      "[CV] END ..max_depth=30, max_features=auto, n_estimators=100; total time=   0.0s\n",
      "[CV] END ..max_depth=30, max_features=auto, n_estimators=100; total time=   0.0s\n",
      "[CV] END ..max_depth=15, max_features=auto, n_estimators=600; total time=   0.0s\n",
      "[CV] END ..max_depth=15, max_features=auto, n_estimators=600; total time=   0.0s\n",
      "[CV] END ..max_depth=15, max_features=auto, n_estimators=700; total time=   0.0s\n",
      "[CV] END ..max_depth=15, max_features=auto, n_estimators=700; total time=   0.0s\n",
      "[CV] END ...max_depth=5, max_features=auto, n_estimators=700; total time=   0.0s\n",
      "[CV] END ...max_depth=5, max_features=auto, n_estimators=700; total time=   0.0s\n"
     ]
    },
    {
     "name": "stderr",
     "output_type": "stream",
     "text": [
      "c:\\Users\\vinod\\anaconda3\\envs\\cars\\Lib\\site-packages\\sklearn\\model_selection\\_validation.py:425: FitFailedWarning: \n",
      "14 fits failed out of a total of 20.\n",
      "The score on these train-test partitions for these parameters will be set to nan.\n",
      "If these failures are not expected, you can try to debug them by setting error_score='raise'.\n",
      "\n",
      "Below are more details about the failures:\n",
      "--------------------------------------------------------------------------------\n",
      "14 fits failed with the following error:\n",
      "Traceback (most recent call last):\n",
      "  File \"c:\\Users\\vinod\\anaconda3\\envs\\cars\\Lib\\site-packages\\sklearn\\model_selection\\_validation.py\", line 732, in _fit_and_score\n",
      "    estimator.fit(X_train, y_train, **fit_params)\n",
      "  File \"c:\\Users\\vinod\\anaconda3\\envs\\cars\\Lib\\site-packages\\sklearn\\base.py\", line 1144, in wrapper\n",
      "    estimator._validate_params()\n",
      "  File \"c:\\Users\\vinod\\anaconda3\\envs\\cars\\Lib\\site-packages\\sklearn\\base.py\", line 637, in _validate_params\n",
      "    validate_parameter_constraints(\n",
      "  File \"c:\\Users\\vinod\\anaconda3\\envs\\cars\\Lib\\site-packages\\sklearn\\utils\\_param_validation.py\", line 95, in validate_parameter_constraints\n",
      "    raise InvalidParameterError(\n",
      "sklearn.utils._param_validation.InvalidParameterError: The 'max_features' parameter of RandomForestRegressor must be an int in the range [1, inf), a float in the range (0.0, 1.0], a str among {'log2', 'sqrt'} or None. Got 'auto' instead.\n",
      "\n",
      "  warnings.warn(some_fits_failed_message, FitFailedWarning)\n",
      "c:\\Users\\vinod\\anaconda3\\envs\\cars\\Lib\\site-packages\\sklearn\\model_selection\\_search.py:976: UserWarning: One or more of the test scores are non-finite: [               nan                nan -46563335.6715932\n",
      " -46295605.33016069 -51275867.01360938                nan\n",
      "                nan                nan                nan\n",
      "                nan]\n",
      "  warnings.warn(\n"
     ]
    },
    {
     "data": {
      "text/html": [
       "<style>#sk-container-id-2 {color: black;}#sk-container-id-2 pre{padding: 0;}#sk-container-id-2 div.sk-toggleable {background-color: white;}#sk-container-id-2 label.sk-toggleable__label {cursor: pointer;display: block;width: 100%;margin-bottom: 0;padding: 0.3em;box-sizing: border-box;text-align: center;}#sk-container-id-2 label.sk-toggleable__label-arrow:before {content: \"▸\";float: left;margin-right: 0.25em;color: #696969;}#sk-container-id-2 label.sk-toggleable__label-arrow:hover:before {color: black;}#sk-container-id-2 div.sk-estimator:hover label.sk-toggleable__label-arrow:before {color: black;}#sk-container-id-2 div.sk-toggleable__content {max-height: 0;max-width: 0;overflow: hidden;text-align: left;background-color: #f0f8ff;}#sk-container-id-2 div.sk-toggleable__content pre {margin: 0.2em;color: black;border-radius: 0.25em;background-color: #f0f8ff;}#sk-container-id-2 input.sk-toggleable__control:checked~div.sk-toggleable__content {max-height: 200px;max-width: 100%;overflow: auto;}#sk-container-id-2 input.sk-toggleable__control:checked~label.sk-toggleable__label-arrow:before {content: \"▾\";}#sk-container-id-2 div.sk-estimator input.sk-toggleable__control:checked~label.sk-toggleable__label {background-color: #d4ebff;}#sk-container-id-2 div.sk-label input.sk-toggleable__control:checked~label.sk-toggleable__label {background-color: #d4ebff;}#sk-container-id-2 input.sk-hidden--visually {border: 0;clip: rect(1px 1px 1px 1px);clip: rect(1px, 1px, 1px, 1px);height: 1px;margin: -1px;overflow: hidden;padding: 0;position: absolute;width: 1px;}#sk-container-id-2 div.sk-estimator {font-family: monospace;background-color: #f0f8ff;border: 1px dotted black;border-radius: 0.25em;box-sizing: border-box;margin-bottom: 0.5em;}#sk-container-id-2 div.sk-estimator:hover {background-color: #d4ebff;}#sk-container-id-2 div.sk-parallel-item::after {content: \"\";width: 100%;border-bottom: 1px solid gray;flex-grow: 1;}#sk-container-id-2 div.sk-label:hover label.sk-toggleable__label {background-color: #d4ebff;}#sk-container-id-2 div.sk-serial::before {content: \"\";position: absolute;border-left: 1px solid gray;box-sizing: border-box;top: 0;bottom: 0;left: 50%;z-index: 0;}#sk-container-id-2 div.sk-serial {display: flex;flex-direction: column;align-items: center;background-color: white;padding-right: 0.2em;padding-left: 0.2em;position: relative;}#sk-container-id-2 div.sk-item {position: relative;z-index: 1;}#sk-container-id-2 div.sk-parallel {display: flex;align-items: stretch;justify-content: center;background-color: white;position: relative;}#sk-container-id-2 div.sk-item::before, #sk-container-id-2 div.sk-parallel-item::before {content: \"\";position: absolute;border-left: 1px solid gray;box-sizing: border-box;top: 0;bottom: 0;left: 50%;z-index: -1;}#sk-container-id-2 div.sk-parallel-item {display: flex;flex-direction: column;z-index: 1;position: relative;background-color: white;}#sk-container-id-2 div.sk-parallel-item:first-child::after {align-self: flex-end;width: 50%;}#sk-container-id-2 div.sk-parallel-item:last-child::after {align-self: flex-start;width: 50%;}#sk-container-id-2 div.sk-parallel-item:only-child::after {width: 0;}#sk-container-id-2 div.sk-dashed-wrapped {border: 1px dashed gray;margin: 0 0.4em 0.5em 0.4em;box-sizing: border-box;padding-bottom: 0.4em;background-color: white;}#sk-container-id-2 div.sk-label label {font-family: monospace;font-weight: bold;display: inline-block;line-height: 1.2em;}#sk-container-id-2 div.sk-label-container {text-align: center;}#sk-container-id-2 div.sk-container {/* jupyter's `normalize.less` sets `[hidden] { display: none; }` but bootstrap.min.css set `[hidden] { display: none !important; }` so we also need the `!important` here to be able to override the default hidden behavior on the sphinx rendered scikit-learn.org. See: https://github.com/scikit-learn/scikit-learn/issues/21755 */display: inline-block !important;position: relative;}#sk-container-id-2 div.sk-text-repr-fallback {display: none;}</style><div id=\"sk-container-id-2\" class=\"sk-top-container\"><div class=\"sk-text-repr-fallback\"><pre>RandomizedSearchCV(cv=2, estimator=RandomForestRegressor(), n_jobs=1,\n",
       "                   param_distributions={&#x27;max_depth&#x27;: [5, 10, 15, 20, 25, 30],\n",
       "                                        &#x27;max_features&#x27;: [&#x27;sqrt&#x27;, &#x27;auto&#x27;],\n",
       "                                        &#x27;n_estimators&#x27;: [100, 200, 300, 400,\n",
       "                                                         500, 600, 700, 800,\n",
       "                                                         900, 1000, 1100,\n",
       "                                                         1200]},\n",
       "                   random_state=42, scoring=&#x27;neg_mean_squared_error&#x27;,\n",
       "                   verbose=2)</pre><b>In a Jupyter environment, please rerun this cell to show the HTML representation or trust the notebook. <br />On GitHub, the HTML representation is unable to render, please try loading this page with nbviewer.org.</b></div><div class=\"sk-container\" hidden><div class=\"sk-item sk-dashed-wrapped\"><div class=\"sk-label-container\"><div class=\"sk-label sk-toggleable\"><input class=\"sk-toggleable__control sk-hidden--visually\" id=\"sk-estimator-id-2\" type=\"checkbox\" ><label for=\"sk-estimator-id-2\" class=\"sk-toggleable__label sk-toggleable__label-arrow\">RandomizedSearchCV</label><div class=\"sk-toggleable__content\"><pre>RandomizedSearchCV(cv=2, estimator=RandomForestRegressor(), n_jobs=1,\n",
       "                   param_distributions={&#x27;max_depth&#x27;: [5, 10, 15, 20, 25, 30],\n",
       "                                        &#x27;max_features&#x27;: [&#x27;sqrt&#x27;, &#x27;auto&#x27;],\n",
       "                                        &#x27;n_estimators&#x27;: [100, 200, 300, 400,\n",
       "                                                         500, 600, 700, 800,\n",
       "                                                         900, 1000, 1100,\n",
       "                                                         1200]},\n",
       "                   random_state=42, scoring=&#x27;neg_mean_squared_error&#x27;,\n",
       "                   verbose=2)</pre></div></div></div><div class=\"sk-parallel\"><div class=\"sk-parallel-item\"><div class=\"sk-item\"><div class=\"sk-label-container\"><div class=\"sk-label sk-toggleable\"><input class=\"sk-toggleable__control sk-hidden--visually\" id=\"sk-estimator-id-3\" type=\"checkbox\" ><label for=\"sk-estimator-id-3\" class=\"sk-toggleable__label sk-toggleable__label-arrow\">estimator: RandomForestRegressor</label><div class=\"sk-toggleable__content\"><pre>RandomForestRegressor()</pre></div></div></div><div class=\"sk-serial\"><div class=\"sk-item\"><div class=\"sk-estimator sk-toggleable\"><input class=\"sk-toggleable__control sk-hidden--visually\" id=\"sk-estimator-id-4\" type=\"checkbox\" ><label for=\"sk-estimator-id-4\" class=\"sk-toggleable__label sk-toggleable__label-arrow\">RandomForestRegressor</label><div class=\"sk-toggleable__content\"><pre>RandomForestRegressor()</pre></div></div></div></div></div></div></div></div></div></div>"
      ],
      "text/plain": [
       "RandomizedSearchCV(cv=2, estimator=RandomForestRegressor(), n_jobs=1,\n",
       "                   param_distributions={'max_depth': [5, 10, 15, 20, 25, 30],\n",
       "                                        'max_features': ['sqrt', 'auto'],\n",
       "                                        'n_estimators': [100, 200, 300, 400,\n",
       "                                                         500, 600, 700, 800,\n",
       "                                                         900, 1000, 1100,\n",
       "                                                         1200]},\n",
       "                   random_state=42, scoring='neg_mean_squared_error',\n",
       "                   verbose=2)"
      ]
     },
     "execution_count": 57,
     "metadata": {},
     "output_type": "execute_result"
    }
   ],
   "source": [
    "rf_random.fit(X_train,y_train)"
   ]
  },
  {
   "cell_type": "code",
   "execution_count": 58,
   "id": "976ed64c",
   "metadata": {},
   "outputs": [
    {
     "data": {
      "text/plain": [
       "{'n_estimators': 200, 'max_features': 'sqrt', 'max_depth': 25}"
      ]
     },
     "execution_count": 58,
     "metadata": {},
     "output_type": "execute_result"
    }
   ],
   "source": [
    "rf_random.best_params_"
   ]
  },
  {
   "cell_type": "code",
   "execution_count": 59,
   "id": "681f3b71",
   "metadata": {},
   "outputs": [
    {
     "data": {
      "text/plain": [
       "-46295605.33016069"
      ]
     },
     "execution_count": 59,
     "metadata": {},
     "output_type": "execute_result"
    }
   ],
   "source": [
    "rf_random.best_score_"
   ]
  },
  {
   "cell_type": "code",
   "execution_count": 60,
   "id": "c2d68f09",
   "metadata": {},
   "outputs": [],
   "source": [
    "prediction = rf_random.predict(X_test)"
   ]
  },
  {
   "cell_type": "code",
   "execution_count": 61,
   "id": "6d0d5ee3",
   "metadata": {},
   "outputs": [
    {
     "name": "stderr",
     "output_type": "stream",
     "text": [
      "c:\\Users\\vinod\\anaconda3\\envs\\cars\\Lib\\site-packages\\seaborn\\axisgrid.py:118: UserWarning: The figure layout has changed to tight\n",
      "  self._figure.tight_layout(*args, **kwargs)\n"
     ]
    },
    {
     "data": {
      "text/plain": [
       "<Figure size 800x800 with 0 Axes>"
      ]
     },
     "metadata": {},
     "output_type": "display_data"
    },
    {
     "data": {
      "image/png": "[encoded data removed]",
      "text/plain": [
       "<Figure size 500x500 with 1 Axes>"
      ]
     },
     "metadata": {},
     "output_type": "display_data"
    }
   ],
   "source": [
    "plt.figure(figsize=(8,8))\n",
    "sns.displot(y_test-prediction)\n",
    "plt.show()"
   ]
  },
  {
   "cell_type": "code",
   "execution_count": 62,
   "id": "30895e19",
   "metadata": {},
   "outputs": [
    {
     "data": {
      "image/png": "[encoded data removed]",
      "text/plain": [
       "<Figure size 800x800 with 1 Axes>"
      ]
     },
     "metadata": {},
     "output_type": "display_data"
    }
   ],
   "source": [
    "plt.figure(figsize=(8,8))\n",
    "plt.scatter(y_test,prediction,alpha=0.5)\n",
    "plt.xlabel('y_test')\n",
    "plt.ylabel('prediction')\n",
    "plt.show()"
   ]
  },
  {
   "cell_type": "code",
   "execution_count": 63,
   "id": "c7057e23",
   "metadata": {},
   "outputs": [
    {
     "name": "stdout",
     "output_type": "stream",
     "text": [
      "RMSE: 3221.039938569157\n",
      "MSE: 35745777.533067286\n",
      "MAE: 3221.039938569157\n",
      "r2_score 0.8064180620005883\n"
     ]
    }
   ],
   "source": [
    "from sklearn import metrics\n",
    "\n",
    "print('RMSE:',metrics.mean_absolute_error(y_test,prediction))\n",
    "print('MSE:', metrics.mean_squared_error(y_test,prediction))\n",
    "print('MAE:', metrics.mean_absolute_error(y_test,prediction))\n",
    "print('r2_score',metrics.r2_score(y_test,prediction))"
   ]
  },
  {
   "cell_type": "code",
   "execution_count": 66,
   "id": "4e313744",
   "metadata": {},
   "outputs": [],
   "source": [
    "import pickle\n",
    "file = open('cars_price.pkl','wb')\n",
    "pickle.dump(rf_random,file)"
   ]
  },
  {
   "cell_type": "code",
   "execution_count": 67,
   "id": "646e74f7",
   "metadata": {},
   "outputs": [],
   "source": [
    "model = open('cars_price.pkl','rb')\n",
    "forest = pickle.load(model)"
   ]
  },
  {
   "cell_type": "code",
   "execution_count": 68,
   "id": "477f59b4",
   "metadata": {},
   "outputs": [],
   "source": [
    "y_prediction = forest.predict(X_test)"
   ]
  },
  {
   "cell_type": "code",
   "execution_count": 69,
   "id": "1f622053",
   "metadata": {},
   "outputs": [
    {
     "data": {
      "text/plain": [
       "0.9658183108520819"
      ]
     },
     "execution_count": 69,
     "metadata": {},
     "output_type": "execute_result"
    }
   ],
   "source": [
    "metrics.r2_score(y_prediction,pred)"
   ]
  },
  {
   "cell_type": "code",
   "execution_count": null,
   "id": "e8d893c7",
   "metadata": {},
   "outputs": [],
   "source": []
  }
 ],
 "metadata": {
  "kernelspec": {
   "display_name": "Python 3 (ipykernel)",
   "language": "python",
   "name": "python3"
  },
  "language_info": {
   "codemirror_mode": {
    "name": "ipython",
    "version": 3
   },
   "file_extension": ".py",
   "mimetype": "text/x-python",
   "name": "python",
   "nbconvert_exporter": "python",
   "pygments_lexer": "ipython3",
   "version": "3.11.4"
  }
 },
 "nbformat": 4,
 "nbformat_minor": 5
}
