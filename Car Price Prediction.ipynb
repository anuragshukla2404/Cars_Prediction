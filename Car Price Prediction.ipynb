{
 "cells": [
  {
   "cell_type": "code",
   "execution_count": null,
   "id": "4d91f7f5",
   "metadata": {},
   "outputs": [],
   "source": [
    "# import libraries\n",
    "import numpy as np\n",
    "import pandas as pd\n",
    "import matplotlib.pyplot as plt\n",
    "import seaborn as sns"
   ]
  },
  {
   "cell_type": "code",
   "execution_count": null,
   "id": "c314bbb7",
   "metadata": {},
   "outputs": [],
   "source": [
    "df = pd.read_csv('vehicles.csv')"
   ]
  },
  {
   "cell_type": "code",
   "execution_count": null,
   "id": "0961501b",
   "metadata": {},
   "outputs": [],
   "source": [
    "df.head()"
   ]
  },
  {
   "cell_type": "markdown",
   "id": "40e8e945",
   "metadata": {},
   "source": []
  },
  {
   "cell_type": "code",
   "execution_count": null,
   "id": "672f7989",
   "metadata": {},
   "outputs": [],
   "source": [
    "df.info()"
   ]
  },
  {
   "cell_type": "code",
   "execution_count": null,
   "id": "cb185851",
   "metadata": {},
   "outputs": [],
   "source": [
    "df.drop(['id','url','region_url','image_url','county','description','year'],axis=1,inplace=True)"
   ]
  },
  {
   "cell_type": "code",
   "execution_count": null,
   "id": "15c49b7f",
   "metadata": {},
   "outputs": [],
   "source": [
    "df.describe()"
   ]
  },
  {
   "cell_type": "code",
   "execution_count": null,
   "id": "2a916140",
   "metadata": {},
   "outputs": [],
   "source": [
    "df.dropna(inplace=True)"
   ]
  },
  {
   "cell_type": "code",
   "execution_count": null,
   "id": "2a959d47",
   "metadata": {},
   "outputs": [],
   "source": [
    "df.isnull().sum()"
   ]
  },
  {
   "cell_type": "code",
   "execution_count": null,
   "id": "105a6df9",
   "metadata": {},
   "outputs": [],
   "source": [
    "df.info()"
   ]
  },
  {
   "cell_type": "code",
   "execution_count": null,
   "id": "e148d8f5",
   "metadata": {},
   "outputs": [],
   "source": [
    "df.columns"
   ]
  },
  {
   "cell_type": "code",
   "execution_count": null,
   "id": "2b9100a1",
   "metadata": {},
   "outputs": [],
   "source": [
    "\n",
    "df['region'].unique()"
   ]
  },
  {
   "cell_type": "code",
   "execution_count": null,
   "id": "060561a9",
   "metadata": {},
   "outputs": [],
   "source": [
    "df['manufacturer'].unique()"
   ]
  },
  {
   "cell_type": "code",
   "execution_count": null,
   "id": "b04bf9bd",
   "metadata": {},
   "outputs": [],
   "source": [
    "df['model'].value_counts()"
   ]
  },
  {
   "cell_type": "code",
   "execution_count": null,
   "id": "73fb8a5f",
   "metadata": {},
   "outputs": [],
   "source": [
    "df['VIN'].unique()"
   ]
  },
  {
   "cell_type": "code",
   "execution_count": null,
   "id": "2d171aac",
   "metadata": {},
   "outputs": [],
   "source": [
    "df['condition'].value_counts()"
   ]
  },
  {
   "cell_type": "code",
   "execution_count": null,
   "id": "74e6bace",
   "metadata": {
    "scrolled": false
   },
   "outputs": [],
   "source": [
    "df['cylinders'].value_counts()"
   ]
  },
  {
   "cell_type": "code",
   "execution_count": null,
   "id": "1ee4e75d",
   "metadata": {},
   "outputs": [],
   "source": [
    "df['title_status'].value_counts()"
   ]
  },
  {
   "cell_type": "code",
   "execution_count": null,
   "id": "72a1376f",
   "metadata": {},
   "outputs": [],
   "source": [
    "df['transmission'].value_counts()"
   ]
  },
  {
   "cell_type": "code",
   "execution_count": null,
   "id": "ea8d5fb6",
   "metadata": {},
   "outputs": [],
   "source": [
    "df['size'].value_counts()"
   ]
  },
  {
   "cell_type": "code",
   "execution_count": null,
   "id": "4d9133de",
   "metadata": {},
   "outputs": [],
   "source": [
    "df['drive'].value_counts()"
   ]
  },
  {
   "cell_type": "code",
   "execution_count": null,
   "id": "252f85b4",
   "metadata": {},
   "outputs": [],
   "source": [
    "df['type'].unique()"
   ]
  },
  {
   "cell_type": "code",
   "execution_count": null,
   "id": "da029281",
   "metadata": {},
   "outputs": [],
   "source": [
    "df['paint_color'].unique()"
   ]
  },
  {
   "cell_type": "code",
   "execution_count": null,
   "id": "f1dd60f1",
   "metadata": {},
   "outputs": [],
   "source": [
    "df['fuel'].value_counts()"
   ]
  },
  {
   "cell_type": "code",
   "execution_count": null,
   "id": "e99989a9",
   "metadata": {},
   "outputs": [],
   "source": [
    "df['state'].unique()"
   ]
  },
  {
   "cell_type": "code",
   "execution_count": null,
   "id": "812bfa0b",
   "metadata": {},
   "outputs": [],
   "source": [
    "df.columns"
   ]
  },
  {
   "cell_type": "code",
   "execution_count": null,
   "id": "f5431a90",
   "metadata": {},
   "outputs": [],
   "source": [
    "df.isnull().sum()"
   ]
  },
  {
   "cell_type": "code",
   "execution_count": null,
   "id": "6f5e301a",
   "metadata": {},
   "outputs": [],
   "source": [
    "df.price.unique()"
   ]
  },
  {
   "cell_type": "code",
   "execution_count": null,
   "id": "a84106af",
   "metadata": {},
   "outputs": [],
   "source": [
    "df.shape"
   ]
  },
  {
   "cell_type": "code",
   "execution_count": null,
   "id": "5a7548a7",
   "metadata": {},
   "outputs": [],
   "source": [
    "df.price.value_counts()"
   ]
  },
  {
   "cell_type": "code",
   "execution_count": null,
   "id": "6205e951",
   "metadata": {},
   "outputs": [],
   "source": [
    "current_year = 2023"
   ]
  },
  {
   "cell_type": "code",
   "execution_count": null,
   "id": "f3b94828",
   "metadata": {},
   "outputs": [],
   "source": [
    "sns.catplot(y='price',x='condition', data=df.sort_values('price', ascending=False),kind=\"boxen\", height= 6, aspect=3)"
   ]
  },
  {
   "cell_type": "code",
   "execution_count": null,
   "id": "8d35338f",
   "metadata": {},
   "outputs": [],
   "source": [
    "sns.catplot(y='price',x='cylinders', data=df.sort_values('price', ascending=False),kind=\"boxen\", height= 6, aspect=3)"
   ]
  },
  {
   "cell_type": "code",
   "execution_count": null,
   "id": "0ad37463",
   "metadata": {},
   "outputs": [],
   "source": [
    "sns.catplot(y='price',x='fuel', data=df.sort_values('price', ascending=False),kind=\"boxen\", height= 6, aspect=3)"
   ]
  },
  {
   "cell_type": "code",
   "execution_count": null,
   "id": "5434c737",
   "metadata": {},
   "outputs": [],
   "source": [
    "sns.catplot(y='price',x='transmission', data=df.sort_values('price', ascending=False),kind=\"boxen\", height= 6, aspect=3)"
   ]
  },
  {
   "cell_type": "code",
   "execution_count": null,
   "id": "880aaca0",
   "metadata": {},
   "outputs": [],
   "source": [
    "sns.catplot(y='price',x='size', data=df.sort_values('price', ascending=False),kind=\"boxen\", height= 6, aspect=3)"
   ]
  },
  {
   "cell_type": "code",
   "execution_count": null,
   "id": "58a27e7a",
   "metadata": {},
   "outputs": [],
   "source": [
    "df.columns"
   ]
  },
  {
   "cell_type": "code",
   "execution_count": null,
   "id": "1108e760",
   "metadata": {},
   "outputs": [],
   "source": [
    "df['manufacturer'].unique()"
   ]
  },
  {
   "cell_type": "code",
   "execution_count": null,
   "id": "e2832ed1",
   "metadata": {},
   "outputs": [],
   "source": [
    "df.replace({'chevrolet':0, 'toyota':1, 'bmw':2, 'mazda':3, 'ford':4, 'mercedes-benz':5,\n",
    "       'ferrari':6, 'lexus':7, 'audi':8, 'mitsubishi':9, 'infiniti':10, 'nissan':11,\n",
    "       'volkswagen':12, 'honda':13, 'ram':14, 'hyundai':15, 'fiat':16, 'cadillac':17,\n",
    "       'jeep':18, 'gmc':19, 'jaguar':20, 'volvo':21, 'dodge':22, 'kia':23, 'chrysler':24,\n",
    "       'subaru':25, 'acura':26, 'mini':27, 'buick':28, 'rover':29, 'lincoln':30, 'porsche':31,\n",
    "       'saturn':32, 'harley-davidson':33, 'pontiac':34, 'mercury':35, 'tesla':36,\n",
    "       'alfa-romeo':37, 'datsun':38, 'land rover':39, 'aston-martin':40,'excellent':0,\n",
    "       'good':1,'like new':2,'fair':3,'new':4,'salvage':5,'6 cylinders':3,'4 cylinders':1,\n",
    "       '8 cylinders':4,'10 cylinders':5, '5 cylinders':2, 'other':7,'3 cylinders':0,'12 cylinders':6, \n",
    "       'clean':0,'rebuilt':1,'salvage':2, 'lien':3,'missing':4,'parts only':5,'automatic':0,'manual':1,'other':2,\n",
    "       'full-size':0,'mid-size':1,'compact':2,'sub-compact':3,'4wd':0,'fwd':1,'rwd':2,'SUV':0,'sedan':1,'truck':2,\n",
    "       'pickup':3,'van':4,'coupe':5,'hatchback':6,'wagon':7,'convertible':8,'mini-van':9,'other':10,'offroad':11,'bus':12,\n",
    "       'white':0, 'blue':1, 'silver':2, 'red':3, 'grey':4, 'black':5, 'brown':6,\n",
    "       'green':7, 'custom':8, 'yellow':9, 'orange':10, 'purple':11,\n",
    "       'al':0, 'ak':1, 'az':2, 'ar':3, 'ca':4, 'co':5, 'ct':6, 'dc':7, 'de':8, 'fl':9, 'ga':10,\n",
    "       'hi':11, 'id':12, 'il':13, 'in':14, 'ia':15, 'ks':16, 'ky':17, 'la':18, 'me':19, 'md':20, 'ma':21,\n",
    "       'mi':22, 'mn':23, 'ms':24, 'mo':25, 'mt':26, 'nc':27, 'ne':28, 'nv':29, 'nj':30, 'nm':31, 'ny':32,\n",
    "       'nh':33, 'nd':34, 'oh':35, 'ok':36, 'or':37, 'pa':38, 'ri':39, 'sc':40, 'sd':41, 'tn':42, 'tx':43,\n",
    "       'ut':44, 'vt':45, 'va':46, 'wa':47, 'wv':48, 'wi':49, 'wy':50},inplace=True)\n"
   ]
  },
  {
   "cell_type": "code",
   "execution_count": null,
   "id": "42a835bb",
   "metadata": {},
   "outputs": [],
   "source": [
    "df['manufacturer'].unique()"
   ]
  },
  {
   "cell_type": "code",
   "execution_count": null,
   "id": "f9b07aa9",
   "metadata": {},
   "outputs": [],
   "source": [
    "df.head()"
   ]
  },
  {
   "cell_type": "code",
   "execution_count": null,
   "id": "0ac26ba4",
   "metadata": {},
   "outputs": [],
   "source": [
    "df.columns"
   ]
  },
  {
   "cell_type": "code",
   "execution_count": null,
   "id": "0bf85ca5",
   "metadata": {},
   "outputs": [],
   "source": [
    "X = df.drop(['price','VIN','posting_date','region','fuel','model'],axis=1)"
   ]
  },
  {
   "cell_type": "code",
   "execution_count": null,
   "id": "03c6f717",
   "metadata": {},
   "outputs": [],
   "source": [
    "y = df.iloc[:,1]"
   ]
  },
  {
   "cell_type": "code",
   "execution_count": null,
   "id": "b029362f",
   "metadata": {},
   "outputs": [],
   "source": [
    "y.value_counts()"
   ]
  },
  {
   "cell_type": "code",
   "execution_count": null,
   "id": "853313cc",
   "metadata": {},
   "outputs": [],
   "source": [
    "X.head()"
   ]
  },
  {
   "cell_type": "markdown",
   "id": "9759c626",
   "metadata": {},
   "source": []
  },
  {
   "cell_type": "code",
   "execution_count": null,
   "id": "7ceff5c2",
   "metadata": {},
   "outputs": [],
   "source": [
    "#Extra tree regressor\n",
    "from sklearn.ensemble import ExtraTreesRegressor\n",
    "selection = ExtraTreesRegressor()\n",
    "selection.fit(X,y)"
   ]
  },
  {
   "cell_type": "code",
   "execution_count": null,
   "id": "86a5e729",
   "metadata": {},
   "outputs": [],
   "source": [
    "from sklearn.model_selection import train_test_split\n",
    "X_train,X_test,y_train,y_test = train_test_split(X,y, test_size=0.2, random_state=0)"
   ]
  },
  {
   "cell_type": "code",
   "execution_count": null,
   "id": "68af276d",
   "metadata": {},
   "outputs": [],
   "source": [
    "from sklearn.ensemble import RandomForestRegressor\n",
    "from sklearn.tree import DecisionTreeRegressor\n",
    "from sklearn.ensemble import GradientBoostingRegressor\n",
    "from sklearn.linear_model import LinearRegression\n",
    "from sklearn.neighbors import KNeighborsRegressor\n",
    "from sklearn.ensemble import AdaBoostRegressor"
   ]
  },
  {
   "cell_type": "code",
   "execution_count": null,
   "id": "4e16647a",
   "metadata": {},
   "outputs": [],
   "source": [
    " models = {\n",
    "                \"Random Forest\" : RandomForestRegressor(),\n",
    "                \"Decision Tree\" : DecisionTreeRegressor(),\n",
    "                \"Grandient Boosting\" : GradientBoostingRegressor(),\n",
    "                \"Linear Regression\" : LinearRegression(),\n",
    "                \"K-Nearest Neighbors Regressor\" : KNeighborsRegressor(),\n",
    "                \"AdaBoost Regressor\" : AdaBoostRegressor()\n",
    "}"
   ]
  },
  {
   "cell_type": "code",
   "execution_count": null,
   "id": "9f9b130a",
   "metadata": {},
   "outputs": [],
   "source": [
    "from sklearn.metrics import r2_score, mean_absolute_error, mean_squared_error"
   ]
  },
  {
   "cell_type": "code",
   "execution_count": null,
   "id": "da6feb45",
   "metadata": {},
   "outputs": [],
   "source": [
    "def evaluate_models(actual,predicted):\n",
    "    mae = mean_absolute_error(actual, predicted)\n",
    "    mse = mean_squared_error(actual, predicted)\n",
    "    rmse = np.sqrt(mean_squared_error(actual, predicted))\n",
    "    r2_square = r2_score(actual,predicted)\n",
    "    return mae,rmse,r2_square"
   ]
  },
  {
   "cell_type": "code",
   "execution_count": null,
   "id": "fbf207dc",
   "metadata": {},
   "outputs": [],
   "source": [
    "model_list=[]\n",
    "r2_list=[]\n",
    "for i in range(len(list(models))):\n",
    "    model = list(models.values())[i]\n",
    "    model.fit(X_train, y_train) # Train model\n",
    "\n",
    "    # Make predictions\n",
    "    y_train_pred = model.predict(X_train)\n",
    "    y_test_pred = model.predict(X_test)\n",
    "    print(list(models.keys())[i])\n",
    "    model_list.append(list(models.keys())[i])\n",
    "    \n",
    "    #model evaluation\n",
    "    model_train_mae , model_train_rmse, model_train_r2 = evaluate_models(y_train, y_train_pred)\n",
    "    model_test_mae , model_test_rmse, model_test_r2 = evaluate_models(y_test, y_test_pred)\n",
    "    \n",
    "    print('Model performance for Training set')\n",
    "    print('Mean Absolute Error : {:.4f}'.format(model_train_mae))\n",
    "    print('Root Mean Squared Error : {:.4f}'.format(model_train_rmse))\n",
    "    print('Mean Absolute Error : {:.4f}'.format(model_train_mae))\n",
    "    print('R2 score : {:.4f}'.format(model_train_r2))\n",
    "    \n",
    "    print('Model performance for Test set')\n",
    "    print('Mean Absolute Error : {:.4f}'.format(model_test_mae))\n",
    "    print('Root Mean Squared Error : {:.4f}'.format(model_test_rmse))\n",
    "    print('Mean Absolute Error : {:.4f}'.format(model_test_mae))\n",
    "    print('R2 score : {:.4f}'.format(model_test_r2))\n",
    "    r2_list.append(model_test_r2)\n",
    "    print('='*35)\n",
    "    print('\\n')"
   ]
  },
  {
   "cell_type": "code",
   "execution_count": null,
   "id": "b62ebc16",
   "metadata": {},
   "outputs": [],
   "source": [
    "pd.DataFrame(list(zip(model_list, r2_list)), columns=['Model Name', 'R2_Score'])"
   ]
  },
  {
   "cell_type": "code",
   "execution_count": null,
   "id": "b3092cab",
   "metadata": {},
   "outputs": [],
   "source": [
    "rf_reg = RandomForestRegressor()\n",
    "rf_reg.fit(X_train,y_train)\n",
    "pred = rf_reg.predict(X_test)\n",
    "print('train score',rf_reg.score(X_train,y_train))\n",
    "print('test score',rf_reg.score(X_test,y_test))"
   ]
  },
  {
   "cell_type": "code",
   "execution_count": null,
   "id": "0e6d59f6",
   "metadata": {},
   "outputs": [],
   "source": [
    "from sklearn.model_selection import KFold, cross_val_score \n",
    "k_folds = KFold(n_splits=5)\n",
    "scores = cross_val_score(rf_reg, X, y, cv=k_folds)\n",
    "print(scores)\n",
    "print(scores.mean())\n",
    "print(len(scores))"
   ]
  },
  {
   "cell_type": "code",
   "execution_count": null,
   "id": "b17555ee",
   "metadata": {},
   "outputs": [],
   "source": [
    "from sklearn.model_selection import RandomizedSearchCV\n",
    "\n",
    "n_estimators = [int(x) for x in np.linspace(start=100, stop=1200, num=12)]\n",
    "max_features = ['sqrt','auto']\n",
    "max_depth = [int(x) for x in np.linspace(5, 30, num=6)]\n",
    "min_sample_split = [2,5,10,15,100]\n",
    "min_sample_leaf = [1,2,5,10]\n",
    "\n",
    "random_grid = {'n_estimators':n_estimators,\n",
    "               'max_features':max_features,\n",
    "               'max_depth':max_depth}\n",
    "\n",
    "rf_random = RandomizedSearchCV(estimator=rf_reg,param_distributions=random_grid,scoring='neg_mean_squared_error',cv=2,verbose=2,random_state=42,n_jobs=1)\n",
    "\n"
   ]
  },
  {
   "cell_type": "code",
   "execution_count": null,
   "id": "27ed2171",
   "metadata": {},
   "outputs": [],
   "source": [
    "rf_random.fit(X_train,y_train)"
   ]
  },
  {
   "cell_type": "code",
   "execution_count": null,
   "id": "976ed64c",
   "metadata": {},
   "outputs": [],
   "source": [
    "rf_random.best_params_"
   ]
  },
  {
   "cell_type": "code",
   "execution_count": null,
   "id": "681f3b71",
   "metadata": {},
   "outputs": [],
   "source": [
    "rf_random.best_score_"
   ]
  },
  {
   "cell_type": "code",
   "execution_count": null,
   "id": "c2d68f09",
   "metadata": {},
   "outputs": [],
   "source": [
    "prediction = rf_random.predict(X_test)"
   ]
  },
  {
   "cell_type": "code",
   "execution_count": null,
   "id": "6d0d5ee3",
   "metadata": {},
   "outputs": [],
   "source": [
    "plt.figure(figsize=(8,8))\n",
    "sns.displot(y_test-prediction)\n",
    "plt.show()"
   ]
  },
  {
   "cell_type": "code",
   "execution_count": null,
   "id": "30895e19",
   "metadata": {},
   "outputs": [],
   "source": [
    "plt.figure(figsize=(8,8))\n",
    "plt.scatter(y_test,prediction,alpha=0.5)\n",
    "plt.xlabel('y_test')\n",
    "plt.ylabel('prediction')\n",
    "plt.show()"
   ]
  },
  {
   "cell_type": "code",
   "execution_count": null,
   "id": "c7057e23",
   "metadata": {},
   "outputs": [],
   "source": [
    "from sklearn import metrics\n",
    "\n",
    "print('RMSE:',metrics.mean_absolute_error(y_test,prediction))\n",
    "print('MSE:', metrics.mean_squared_error(y_test,prediction))\n",
    "print('MAE:', metrics.mean_absolute_error(y_test,prediction))\n",
    "print('r2_score',metrics.r2_score(y_test,prediction))"
   ]
  },
  {
   "cell_type": "code",
   "execution_count": null,
   "id": "4e313744",
   "metadata": {},
   "outputs": [],
   "source": [
    "import pickle\n",
    "file = open('cars_price.pkl','wb')\n",
    "pickle.dump(rf_random,file)"
   ]
  },
  {
   "cell_type": "code",
   "execution_count": null,
   "id": "646e74f7",
   "metadata": {},
   "outputs": [],
   "source": [
    "model = open('cars_price.pkl','rb')\n",
    "forest = pickle.load(model)"
   ]
  },
  {
   "cell_type": "code",
   "execution_count": null,
   "id": "477f59b4",
   "metadata": {},
   "outputs": [],
   "source": [
    "y_prediction = forest.predict(X_test)"
   ]
  },
  {
   "cell_type": "code",
   "execution_count": null,
   "id": "1f622053",
   "metadata": {},
   "outputs": [],
   "source": [
    "metrics.r2_score(y_prediction,pred)"
   ]
  },
  {
   "cell_type": "code",
   "execution_count": null,
   "id": "e8d893c7",
   "metadata": {},
   "outputs": [],
   "source": []
  }
 ],
 "metadata": {
  "kernelspec": {
   "display_name": "Python 3 (ipykernel)",
   "language": "python",
   "name": "python3"
  },
  "language_info": {
   "codemirror_mode": {
    "name": "ipython",
    "version": 3
   },
   "file_extension": ".py",
   "mimetype": "text/x-python",
   "name": "python",
   "nbconvert_exporter": "python",
   "pygments_lexer": "ipython3",
   "version": "3.11.4"
  }
 },
 "nbformat": 4,
 "nbformat_minor": 5
}
